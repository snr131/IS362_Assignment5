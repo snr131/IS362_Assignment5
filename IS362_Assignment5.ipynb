{
 "cells": [
  {
   "cell_type": "markdown",
   "metadata": {
    "id": "EM7m2gdOAF2M"
   },
   "source": [
    "# IS 362 Assignment 5"
   ]
  },
  {
   "cell_type": "markdown",
   "metadata": {
    "id": "HqgVBeap3PXL"
   },
   "source": [
    "## Prompt:"
   ]
  },
  {
   "cell_type": "markdown",
   "metadata": {
    "id": "QVkrbkBF4G0_"
   },
   "source": [
    "Your task in this week’s assignment is to answer three questions:\n",
    "1. What is the northernmost airport in the United States?\n",
    "2. What is the easternmost airport in the United States?\n",
    "3. On February 12th, 2013, which New York area airport had the windiest weather?\n",
    "\n",
    "Being successful on this assignment requires using both:\n",
    "* Your developing skills in Python and pandas, and\n",
    "* Your research skills in validating your candidate answers in context\n",
    "\n",
    "Tasks\n",
    "* Use the information in the .CSV files found at\n",
    "https://github.com/hadley/nycflights13/tree/master/data-raw for your source data.\n",
    "* Write your code using Python and pandas, and deliver it in a Jupyter notebook. You should post your notebook in a GitHub repository, and send me a link to the notebook.\n",
    "* For each of the three questions listed above, you’ll need to verify your answers (in two cases by searching for additional confirming information, and in the third case being alert for possible outliers). For the first two questions above, you may want to start by generating a list of the five\n",
    "northernmost or easternmost U.S. airports.\n",
    "* In addition to providing code, you should state your answers to each of the above questions (in Markdown) in the Jupyter notebook.\n",
    "* To receive full credit, you’ll need to include in your Jupyter notebook both your code and your documented assumptions and any changes that you made to the data based on your research (using Markdown) in your Jupyter notebook."
   ]
  },
  {
   "cell_type": "markdown",
   "metadata": {
    "id": "rlUmx_C4FOv8"
   },
   "source": [
    "## Question 1\n",
    "\n",
    "What is the northernmost airport in the United States?"
   ]
  },
  {
   "cell_type": "code",
   "execution_count": 1,
   "metadata": {
    "executionInfo": {
     "elapsed": 599,
     "status": "ok",
     "timestamp": 1615033044905,
     "user": {
      "displayName": "Sarah May",
      "photoUrl": "https://lh4.googleusercontent.com/-CO2Ps2DCMD8/AAAAAAAAAAI/AAAAAAAAv8w/wDaS83oSD7s/s64/photo.jpg",
      "userId": "13591673223454869279"
     },
     "user_tz": 300
    },
    "id": "02avXQQI5gMY"
   },
   "outputs": [],
   "source": [
    "# import pandas\n",
    "import pandas as pd"
   ]
  },
  {
   "cell_type": "code",
   "execution_count": 2,
   "metadata": {
    "executionInfo": {
     "elapsed": 896,
     "status": "ok",
     "timestamp": 1615033046388,
     "user": {
      "displayName": "Sarah May",
      "photoUrl": "https://lh4.googleusercontent.com/-CO2Ps2DCMD8/AAAAAAAAAAI/AAAAAAAAv8w/wDaS83oSD7s/s64/photo.jpg",
      "userId": "13591673223454869279"
     },
     "user_tz": 300
    },
    "id": "XZUOu5zW6Xmu"
   },
   "outputs": [],
   "source": [
    "# read the airports.csv and save as a pandas DataFrame\n",
    "airport_df = pd.read_csv('https://raw.githubusercontent.com/hadley/nycflights13/master/data-raw/airports.csv')"
   ]
  },
  {
   "cell_type": "code",
   "execution_count": 3,
   "metadata": {
    "colab": {
     "base_uri": "https://localhost:8080/"
    },
    "executionInfo": {
     "elapsed": 588,
     "status": "ok",
     "timestamp": 1615033048392,
     "user": {
      "displayName": "Sarah May",
      "photoUrl": "https://lh4.googleusercontent.com/-CO2Ps2DCMD8/AAAAAAAAAAI/AAAAAAAAv8w/wDaS83oSD7s/s64/photo.jpg",
      "userId": "13591673223454869279"
     },
     "user_tz": 300
    },
    "id": "JtjRtKFN41Fj",
    "outputId": "b96cef78-5d68-4760-cf4e-54403cc71d2d"
   },
   "outputs": [
    {
     "name": "stdout",
     "output_type": "stream",
     "text": [
      "<class 'pandas.core.frame.DataFrame'>\n",
      "RangeIndex: 1458 entries, 0 to 1457\n",
      "Data columns (total 8 columns):\n",
      " #   Column  Non-Null Count  Dtype  \n",
      "---  ------  --------------  -----  \n",
      " 0   faa     1458 non-null   object \n",
      " 1   name    1458 non-null   object \n",
      " 2   lat     1458 non-null   float64\n",
      " 3   lon     1458 non-null   float64\n",
      " 4   alt     1458 non-null   int64  \n",
      " 5   tz      1458 non-null   int64  \n",
      " 6   dst     1458 non-null   object \n",
      " 7   tzone   1455 non-null   object \n",
      "dtypes: float64(2), int64(2), object(4)\n",
      "memory usage: 91.2+ KB\n"
     ]
    }
   ],
   "source": [
    "# there are seven columns\n",
    "# column 'lat' holds latitude values\n",
    "airport_df.info()"
   ]
  },
  {
   "cell_type": "code",
   "execution_count": 4,
   "metadata": {
    "colab": {
     "base_uri": "https://localhost:8080/",
     "height": 195
    },
    "executionInfo": {
     "elapsed": 610,
     "status": "ok",
     "timestamp": 1615033051133,
     "user": {
      "displayName": "Sarah May",
      "photoUrl": "https://lh4.googleusercontent.com/-CO2Ps2DCMD8/AAAAAAAAAAI/AAAAAAAAv8w/wDaS83oSD7s/s64/photo.jpg",
      "userId": "13591673223454869279"
     },
     "user_tz": 300
    },
    "id": "WZhAqo4S6Vnx",
    "outputId": "9db575ab-36f1-4efd-81a8-2c6649ecb4e2"
   },
   "outputs": [
    {
     "data": {
      "text/html": [
       "<div>\n",
       "<style scoped>\n",
       "    .dataframe tbody tr th:only-of-type {\n",
       "        vertical-align: middle;\n",
       "    }\n",
       "\n",
       "    .dataframe tbody tr th {\n",
       "        vertical-align: top;\n",
       "    }\n",
       "\n",
       "    .dataframe thead th {\n",
       "        text-align: right;\n",
       "    }\n",
       "</style>\n",
       "<table border=\"1\" class=\"dataframe\">\n",
       "  <thead>\n",
       "    <tr style=\"text-align: right;\">\n",
       "      <th></th>\n",
       "      <th>faa</th>\n",
       "      <th>name</th>\n",
       "      <th>lat</th>\n",
       "      <th>lon</th>\n",
       "      <th>alt</th>\n",
       "      <th>tz</th>\n",
       "      <th>dst</th>\n",
       "      <th>tzone</th>\n",
       "    </tr>\n",
       "  </thead>\n",
       "  <tbody>\n",
       "    <tr>\n",
       "      <th>0</th>\n",
       "      <td>04G</td>\n",
       "      <td>Lansdowne Airport</td>\n",
       "      <td>41.130472</td>\n",
       "      <td>-80.619583</td>\n",
       "      <td>1044</td>\n",
       "      <td>-5</td>\n",
       "      <td>A</td>\n",
       "      <td>America/New_York</td>\n",
       "    </tr>\n",
       "    <tr>\n",
       "      <th>1</th>\n",
       "      <td>06A</td>\n",
       "      <td>Moton Field Municipal Airport</td>\n",
       "      <td>32.460572</td>\n",
       "      <td>-85.680028</td>\n",
       "      <td>264</td>\n",
       "      <td>-6</td>\n",
       "      <td>A</td>\n",
       "      <td>America/Chicago</td>\n",
       "    </tr>\n",
       "    <tr>\n",
       "      <th>2</th>\n",
       "      <td>06C</td>\n",
       "      <td>Schaumburg Regional</td>\n",
       "      <td>41.989341</td>\n",
       "      <td>-88.101243</td>\n",
       "      <td>801</td>\n",
       "      <td>-6</td>\n",
       "      <td>A</td>\n",
       "      <td>America/Chicago</td>\n",
       "    </tr>\n",
       "    <tr>\n",
       "      <th>3</th>\n",
       "      <td>06N</td>\n",
       "      <td>Randall Airport</td>\n",
       "      <td>41.431912</td>\n",
       "      <td>-74.391561</td>\n",
       "      <td>523</td>\n",
       "      <td>-5</td>\n",
       "      <td>A</td>\n",
       "      <td>America/New_York</td>\n",
       "    </tr>\n",
       "    <tr>\n",
       "      <th>4</th>\n",
       "      <td>09J</td>\n",
       "      <td>Jekyll Island Airport</td>\n",
       "      <td>31.074472</td>\n",
       "      <td>-81.427778</td>\n",
       "      <td>11</td>\n",
       "      <td>-5</td>\n",
       "      <td>A</td>\n",
       "      <td>America/New_York</td>\n",
       "    </tr>\n",
       "  </tbody>\n",
       "</table>\n",
       "</div>"
      ],
      "text/plain": [
       "   faa                           name        lat        lon   alt  tz dst  \\\n",
       "0  04G              Lansdowne Airport  41.130472 -80.619583  1044  -5   A   \n",
       "1  06A  Moton Field Municipal Airport  32.460572 -85.680028   264  -6   A   \n",
       "2  06C            Schaumburg Regional  41.989341 -88.101243   801  -6   A   \n",
       "3  06N                Randall Airport  41.431912 -74.391561   523  -5   A   \n",
       "4  09J          Jekyll Island Airport  31.074472 -81.427778    11  -5   A   \n",
       "\n",
       "              tzone  \n",
       "0  America/New_York  \n",
       "1   America/Chicago  \n",
       "2   America/Chicago  \n",
       "3  America/New_York  \n",
       "4  America/New_York  "
      ]
     },
     "execution_count": 4,
     "metadata": {},
     "output_type": "execute_result"
    }
   ],
   "source": [
    "# .head() shows a snapshot of the data\n",
    "airport_df.head()"
   ]
  },
  {
   "cell_type": "code",
   "execution_count": 5,
   "metadata": {
    "colab": {
     "base_uri": "https://localhost:8080/",
     "height": 402
    },
    "executionInfo": {
     "elapsed": 618,
     "status": "ok",
     "timestamp": 1615033053942,
     "user": {
      "displayName": "Sarah May",
      "photoUrl": "https://lh4.googleusercontent.com/-CO2Ps2DCMD8/AAAAAAAAAAI/AAAAAAAAv8w/wDaS83oSD7s/s64/photo.jpg",
      "userId": "13591673223454869279"
     },
     "user_tz": 300
    },
    "id": "TgTAqr6mBXS3",
    "outputId": "a380239f-2aa4-416d-ae78-982f059b8f90"
   },
   "outputs": [
    {
     "data": {
      "text/html": [
       "<div>\n",
       "<style scoped>\n",
       "    .dataframe tbody tr th:only-of-type {\n",
       "        vertical-align: middle;\n",
       "    }\n",
       "\n",
       "    .dataframe tbody tr th {\n",
       "        vertical-align: top;\n",
       "    }\n",
       "\n",
       "    .dataframe thead th {\n",
       "        text-align: right;\n",
       "    }\n",
       "</style>\n",
       "<table border=\"1\" class=\"dataframe\">\n",
       "  <thead>\n",
       "    <tr style=\"text-align: right;\">\n",
       "      <th></th>\n",
       "      <th>faa</th>\n",
       "      <th>name</th>\n",
       "      <th>lat</th>\n",
       "      <th>lon</th>\n",
       "      <th>alt</th>\n",
       "      <th>tz</th>\n",
       "      <th>dst</th>\n",
       "      <th>tzone</th>\n",
       "    </tr>\n",
       "  </thead>\n",
       "  <tbody>\n",
       "    <tr>\n",
       "      <th>679</th>\n",
       "      <td>ITO</td>\n",
       "      <td>Hilo Intl</td>\n",
       "      <td>19.721375</td>\n",
       "      <td>-155.048469</td>\n",
       "      <td>38</td>\n",
       "      <td>-10</td>\n",
       "      <td>N</td>\n",
       "      <td>Pacific/Honolulu</td>\n",
       "    </tr>\n",
       "    <tr>\n",
       "      <th>734</th>\n",
       "      <td>KOA</td>\n",
       "      <td>Kona Intl At Keahole</td>\n",
       "      <td>19.738767</td>\n",
       "      <td>-156.045631</td>\n",
       "      <td>47</td>\n",
       "      <td>-10</td>\n",
       "      <td>N</td>\n",
       "      <td>Pacific/Honolulu</td>\n",
       "    </tr>\n",
       "    <tr>\n",
       "      <th>231</th>\n",
       "      <td>BSF</td>\n",
       "      <td>Bradshaw Aaf</td>\n",
       "      <td>19.760056</td>\n",
       "      <td>-155.553717</td>\n",
       "      <td>6190</td>\n",
       "      <td>-10</td>\n",
       "      <td>A</td>\n",
       "      <td>Pacific/Honolulu</td>\n",
       "    </tr>\n",
       "    <tr>\n",
       "      <th>1403</th>\n",
       "      <td>WKL</td>\n",
       "      <td>Waikoloa Heliport</td>\n",
       "      <td>19.913600</td>\n",
       "      <td>-155.864000</td>\n",
       "      <td>109</td>\n",
       "      <td>-10</td>\n",
       "      <td>N</td>\n",
       "      <td>Pacific/Honolulu</td>\n",
       "    </tr>\n",
       "    <tr>\n",
       "      <th>930</th>\n",
       "      <td>MUE</td>\n",
       "      <td>Waimea Kohala</td>\n",
       "      <td>20.001328</td>\n",
       "      <td>-155.668108</td>\n",
       "      <td>2671</td>\n",
       "      <td>-10</td>\n",
       "      <td>A</td>\n",
       "      <td>Pacific/Honolulu</td>\n",
       "    </tr>\n",
       "    <tr>\n",
       "      <th>...</th>\n",
       "      <td>...</td>\n",
       "      <td>...</td>\n",
       "      <td>...</td>\n",
       "      <td>...</td>\n",
       "      <td>...</td>\n",
       "      <td>...</td>\n",
       "      <td>...</td>\n",
       "      <td>...</td>\n",
       "    </tr>\n",
       "    <tr>\n",
       "      <th>152</th>\n",
       "      <td>ATK</td>\n",
       "      <td>Atqasuk Edward Burnell Sr Memorial Airport</td>\n",
       "      <td>70.467300</td>\n",
       "      <td>-157.436000</td>\n",
       "      <td>96</td>\n",
       "      <td>-9</td>\n",
       "      <td>A</td>\n",
       "      <td>America/Anchorage</td>\n",
       "    </tr>\n",
       "    <tr>\n",
       "      <th>708</th>\n",
       "      <td>K03</td>\n",
       "      <td>Wainwright As</td>\n",
       "      <td>70.613378</td>\n",
       "      <td>-159.860350</td>\n",
       "      <td>35</td>\n",
       "      <td>-9</td>\n",
       "      <td>A</td>\n",
       "      <td>America/Anchorage</td>\n",
       "    </tr>\n",
       "    <tr>\n",
       "      <th>110</th>\n",
       "      <td>AIN</td>\n",
       "      <td>Wainwright Airport</td>\n",
       "      <td>70.638056</td>\n",
       "      <td>-159.994722</td>\n",
       "      <td>41</td>\n",
       "      <td>-9</td>\n",
       "      <td>A</td>\n",
       "      <td>America/Anchorage</td>\n",
       "    </tr>\n",
       "    <tr>\n",
       "      <th>230</th>\n",
       "      <td>BRW</td>\n",
       "      <td>Wiley Post Will Rogers Mem</td>\n",
       "      <td>71.285446</td>\n",
       "      <td>-156.766003</td>\n",
       "      <td>44</td>\n",
       "      <td>-9</td>\n",
       "      <td>A</td>\n",
       "      <td>America/Anchorage</td>\n",
       "    </tr>\n",
       "    <tr>\n",
       "      <th>417</th>\n",
       "      <td>EEN</td>\n",
       "      <td>Dillant Hopkins Airport</td>\n",
       "      <td>72.270833</td>\n",
       "      <td>42.898333</td>\n",
       "      <td>149</td>\n",
       "      <td>-5</td>\n",
       "      <td>A</td>\n",
       "      <td>NaN</td>\n",
       "    </tr>\n",
       "  </tbody>\n",
       "</table>\n",
       "<p>1458 rows × 8 columns</p>\n",
       "</div>"
      ],
      "text/plain": [
       "      faa                                        name        lat         lon  \\\n",
       "679   ITO                                   Hilo Intl  19.721375 -155.048469   \n",
       "734   KOA                        Kona Intl At Keahole  19.738767 -156.045631   \n",
       "231   BSF                                Bradshaw Aaf  19.760056 -155.553717   \n",
       "1403  WKL                           Waikoloa Heliport  19.913600 -155.864000   \n",
       "930   MUE                               Waimea Kohala  20.001328 -155.668108   \n",
       "...   ...                                         ...        ...         ...   \n",
       "152   ATK  Atqasuk Edward Burnell Sr Memorial Airport  70.467300 -157.436000   \n",
       "708   K03                               Wainwright As  70.613378 -159.860350   \n",
       "110   AIN                          Wainwright Airport  70.638056 -159.994722   \n",
       "230   BRW                  Wiley Post Will Rogers Mem  71.285446 -156.766003   \n",
       "417   EEN                     Dillant Hopkins Airport  72.270833   42.898333   \n",
       "\n",
       "       alt  tz dst              tzone  \n",
       "679     38 -10   N   Pacific/Honolulu  \n",
       "734     47 -10   N   Pacific/Honolulu  \n",
       "231   6190 -10   A   Pacific/Honolulu  \n",
       "1403   109 -10   N   Pacific/Honolulu  \n",
       "930   2671 -10   A   Pacific/Honolulu  \n",
       "...    ...  ..  ..                ...  \n",
       "152     96  -9   A  America/Anchorage  \n",
       "708     35  -9   A  America/Anchorage  \n",
       "110     41  -9   A  America/Anchorage  \n",
       "230     44  -9   A  America/Anchorage  \n",
       "417    149  -5   A                NaN  \n",
       "\n",
       "[1458 rows x 8 columns]"
      ]
     },
     "execution_count": 5,
     "metadata": {},
     "output_type": "execute_result"
    }
   ],
   "source": [
    "# .sort_values() will sort the DataFrame by the specified column, in this case latitude\n",
    "# the latitude range of this data set is 19.721375 (ITO airport in Hawaii) at its most southern point\n",
    "# up to 72.270833 (EEN airport in New Hampshire) at its most northern point\n",
    "airport_df.sort_values('lat')"
   ]
  },
  {
   "cell_type": "markdown",
   "metadata": {
    "id": "WK7Z7h01HkNF"
   },
   "source": [
    "I'm surprised to see that the northernmost airport is in New Hampshire, as I am sure there are airports in the states north of NH. After looking at the listed latitude and longitude values of EEN airport in Google Maps, I see that the latitude of EEN is incorrect. The correct latitude should be (what is shown as its longitude) 42.898333, and its latitude should be -72.270833."
   ]
  },
  {
   "cell_type": "code",
   "execution_count": 6,
   "metadata": {
    "colab": {
     "base_uri": "https://localhost:8080/",
     "height": 402
    },
    "executionInfo": {
     "elapsed": 626,
     "status": "ok",
     "timestamp": 1615033058636,
     "user": {
      "displayName": "Sarah May",
      "photoUrl": "https://lh4.googleusercontent.com/-CO2Ps2DCMD8/AAAAAAAAAAI/AAAAAAAAv8w/wDaS83oSD7s/s64/photo.jpg",
      "userId": "13591673223454869279"
     },
     "user_tz": 300
    },
    "id": "HuVC1JjSIQWS",
    "outputId": "c2e06961-08dc-4b5e-c337-49cc9c559ed5"
   },
   "outputs": [
    {
     "data": {
      "text/html": [
       "<div>\n",
       "<style scoped>\n",
       "    .dataframe tbody tr th:only-of-type {\n",
       "        vertical-align: middle;\n",
       "    }\n",
       "\n",
       "    .dataframe tbody tr th {\n",
       "        vertical-align: top;\n",
       "    }\n",
       "\n",
       "    .dataframe thead th {\n",
       "        text-align: right;\n",
       "    }\n",
       "</style>\n",
       "<table border=\"1\" class=\"dataframe\">\n",
       "  <thead>\n",
       "    <tr style=\"text-align: right;\">\n",
       "      <th></th>\n",
       "      <th>faa</th>\n",
       "      <th>name</th>\n",
       "      <th>lat</th>\n",
       "      <th>lon</th>\n",
       "      <th>alt</th>\n",
       "      <th>tz</th>\n",
       "      <th>dst</th>\n",
       "      <th>tzone</th>\n",
       "    </tr>\n",
       "  </thead>\n",
       "  <tbody>\n",
       "    <tr>\n",
       "      <th>679</th>\n",
       "      <td>ITO</td>\n",
       "      <td>Hilo Intl</td>\n",
       "      <td>19.721375</td>\n",
       "      <td>-155.048469</td>\n",
       "      <td>38</td>\n",
       "      <td>-10</td>\n",
       "      <td>N</td>\n",
       "      <td>Pacific/Honolulu</td>\n",
       "    </tr>\n",
       "    <tr>\n",
       "      <th>734</th>\n",
       "      <td>KOA</td>\n",
       "      <td>Kona Intl At Keahole</td>\n",
       "      <td>19.738767</td>\n",
       "      <td>-156.045631</td>\n",
       "      <td>47</td>\n",
       "      <td>-10</td>\n",
       "      <td>N</td>\n",
       "      <td>Pacific/Honolulu</td>\n",
       "    </tr>\n",
       "    <tr>\n",
       "      <th>231</th>\n",
       "      <td>BSF</td>\n",
       "      <td>Bradshaw Aaf</td>\n",
       "      <td>19.760056</td>\n",
       "      <td>-155.553717</td>\n",
       "      <td>6190</td>\n",
       "      <td>-10</td>\n",
       "      <td>A</td>\n",
       "      <td>Pacific/Honolulu</td>\n",
       "    </tr>\n",
       "    <tr>\n",
       "      <th>1403</th>\n",
       "      <td>WKL</td>\n",
       "      <td>Waikoloa Heliport</td>\n",
       "      <td>19.913600</td>\n",
       "      <td>-155.864000</td>\n",
       "      <td>109</td>\n",
       "      <td>-10</td>\n",
       "      <td>N</td>\n",
       "      <td>Pacific/Honolulu</td>\n",
       "    </tr>\n",
       "    <tr>\n",
       "      <th>930</th>\n",
       "      <td>MUE</td>\n",
       "      <td>Waimea Kohala</td>\n",
       "      <td>20.001328</td>\n",
       "      <td>-155.668108</td>\n",
       "      <td>2671</td>\n",
       "      <td>-10</td>\n",
       "      <td>A</td>\n",
       "      <td>Pacific/Honolulu</td>\n",
       "    </tr>\n",
       "    <tr>\n",
       "      <th>...</th>\n",
       "      <td>...</td>\n",
       "      <td>...</td>\n",
       "      <td>...</td>\n",
       "      <td>...</td>\n",
       "      <td>...</td>\n",
       "      <td>...</td>\n",
       "      <td>...</td>\n",
       "      <td>...</td>\n",
       "    </tr>\n",
       "    <tr>\n",
       "      <th>1363</th>\n",
       "      <td>UUK</td>\n",
       "      <td>Ugnu-Kuparuk Airport</td>\n",
       "      <td>70.330833</td>\n",
       "      <td>-149.597500</td>\n",
       "      <td>67</td>\n",
       "      <td>-9</td>\n",
       "      <td>A</td>\n",
       "      <td>America/Anchorage</td>\n",
       "    </tr>\n",
       "    <tr>\n",
       "      <th>152</th>\n",
       "      <td>ATK</td>\n",
       "      <td>Atqasuk Edward Burnell Sr Memorial Airport</td>\n",
       "      <td>70.467300</td>\n",
       "      <td>-157.436000</td>\n",
       "      <td>96</td>\n",
       "      <td>-9</td>\n",
       "      <td>A</td>\n",
       "      <td>America/Anchorage</td>\n",
       "    </tr>\n",
       "    <tr>\n",
       "      <th>708</th>\n",
       "      <td>K03</td>\n",
       "      <td>Wainwright As</td>\n",
       "      <td>70.613378</td>\n",
       "      <td>-159.860350</td>\n",
       "      <td>35</td>\n",
       "      <td>-9</td>\n",
       "      <td>A</td>\n",
       "      <td>America/Anchorage</td>\n",
       "    </tr>\n",
       "    <tr>\n",
       "      <th>110</th>\n",
       "      <td>AIN</td>\n",
       "      <td>Wainwright Airport</td>\n",
       "      <td>70.638056</td>\n",
       "      <td>-159.994722</td>\n",
       "      <td>41</td>\n",
       "      <td>-9</td>\n",
       "      <td>A</td>\n",
       "      <td>America/Anchorage</td>\n",
       "    </tr>\n",
       "    <tr>\n",
       "      <th>230</th>\n",
       "      <td>BRW</td>\n",
       "      <td>Wiley Post Will Rogers Mem</td>\n",
       "      <td>71.285446</td>\n",
       "      <td>-156.766003</td>\n",
       "      <td>44</td>\n",
       "      <td>-9</td>\n",
       "      <td>A</td>\n",
       "      <td>America/Anchorage</td>\n",
       "    </tr>\n",
       "  </tbody>\n",
       "</table>\n",
       "<p>1458 rows × 8 columns</p>\n",
       "</div>"
      ],
      "text/plain": [
       "      faa                                        name        lat         lon  \\\n",
       "679   ITO                                   Hilo Intl  19.721375 -155.048469   \n",
       "734   KOA                        Kona Intl At Keahole  19.738767 -156.045631   \n",
       "231   BSF                                Bradshaw Aaf  19.760056 -155.553717   \n",
       "1403  WKL                           Waikoloa Heliport  19.913600 -155.864000   \n",
       "930   MUE                               Waimea Kohala  20.001328 -155.668108   \n",
       "...   ...                                         ...        ...         ...   \n",
       "1363  UUK                        Ugnu-Kuparuk Airport  70.330833 -149.597500   \n",
       "152   ATK  Atqasuk Edward Burnell Sr Memorial Airport  70.467300 -157.436000   \n",
       "708   K03                               Wainwright As  70.613378 -159.860350   \n",
       "110   AIN                          Wainwright Airport  70.638056 -159.994722   \n",
       "230   BRW                  Wiley Post Will Rogers Mem  71.285446 -156.766003   \n",
       "\n",
       "       alt  tz dst              tzone  \n",
       "679     38 -10   N   Pacific/Honolulu  \n",
       "734     47 -10   N   Pacific/Honolulu  \n",
       "231   6190 -10   A   Pacific/Honolulu  \n",
       "1403   109 -10   N   Pacific/Honolulu  \n",
       "930   2671 -10   A   Pacific/Honolulu  \n",
       "...    ...  ..  ..                ...  \n",
       "1363    67  -9   A  America/Anchorage  \n",
       "152     96  -9   A  America/Anchorage  \n",
       "708     35  -9   A  America/Anchorage  \n",
       "110     41  -9   A  America/Anchorage  \n",
       "230     44  -9   A  America/Anchorage  \n",
       "\n",
       "[1458 rows x 8 columns]"
      ]
     },
     "execution_count": 6,
     "metadata": {},
     "output_type": "execute_result"
    }
   ],
   "source": [
    "# correct values\n",
    "airport_df.loc[airport_df['faa']=='EEN', 'lat'] = 42.898333\n",
    "airport_df.loc[airport_df['faa']=='EEN', 'lon'] = -72.270833\n",
    "airport_df.sort_values('lat')"
   ]
  },
  {
   "cell_type": "code",
   "execution_count": 7,
   "metadata": {
    "colab": {
     "base_uri": "https://localhost:8080/",
     "height": 77
    },
    "executionInfo": {
     "elapsed": 636,
     "status": "ok",
     "timestamp": 1615033063393,
     "user": {
      "displayName": "Sarah May",
      "photoUrl": "https://lh4.googleusercontent.com/-CO2Ps2DCMD8/AAAAAAAAAAI/AAAAAAAAv8w/wDaS83oSD7s/s64/photo.jpg",
      "userId": "13591673223454869279"
     },
     "user_tz": 300
    },
    "id": "5nafYHE-MJLj",
    "outputId": "595c0e78-da95-476c-ab91-ff129c19848d"
   },
   "outputs": [
    {
     "data": {
      "text/html": [
       "<div>\n",
       "<style scoped>\n",
       "    .dataframe tbody tr th:only-of-type {\n",
       "        vertical-align: middle;\n",
       "    }\n",
       "\n",
       "    .dataframe tbody tr th {\n",
       "        vertical-align: top;\n",
       "    }\n",
       "\n",
       "    .dataframe thead th {\n",
       "        text-align: right;\n",
       "    }\n",
       "</style>\n",
       "<table border=\"1\" class=\"dataframe\">\n",
       "  <thead>\n",
       "    <tr style=\"text-align: right;\">\n",
       "      <th></th>\n",
       "      <th>faa</th>\n",
       "      <th>name</th>\n",
       "      <th>lat</th>\n",
       "      <th>lon</th>\n",
       "      <th>alt</th>\n",
       "      <th>tz</th>\n",
       "      <th>dst</th>\n",
       "      <th>tzone</th>\n",
       "    </tr>\n",
       "  </thead>\n",
       "  <tbody>\n",
       "    <tr>\n",
       "      <th>230</th>\n",
       "      <td>BRW</td>\n",
       "      <td>Wiley Post Will Rogers Mem</td>\n",
       "      <td>71.285446</td>\n",
       "      <td>-156.766003</td>\n",
       "      <td>44</td>\n",
       "      <td>-9</td>\n",
       "      <td>A</td>\n",
       "      <td>America/Anchorage</td>\n",
       "    </tr>\n",
       "  </tbody>\n",
       "</table>\n",
       "</div>"
      ],
      "text/plain": [
       "     faa                        name        lat         lon  alt  tz dst  \\\n",
       "230  BRW  Wiley Post Will Rogers Mem  71.285446 -156.766003   44  -9   A   \n",
       "\n",
       "                 tzone  \n",
       "230  America/Anchorage  "
      ]
     },
     "execution_count": 7,
     "metadata": {},
     "output_type": "execute_result"
    }
   ],
   "source": [
    "northernmost_airport = airport_df[airport_df.lat == airport_df.lat.max()]\n",
    "northernmost_airport"
   ]
  },
  {
   "cell_type": "markdown",
   "metadata": {
    "id": "O8zJ2U72iinR"
   },
   "source": [
    "Using Google Maps as a reference, I verified that BRW airport in Alaska appears to be the at the northernmost point of this data set."
   ]
  },
  {
   "cell_type": "code",
   "execution_count": 8,
   "metadata": {
    "colab": {
     "base_uri": "https://localhost:8080/",
     "height": 35
    },
    "executionInfo": {
     "elapsed": 598,
     "status": "ok",
     "timestamp": 1615034016676,
     "user": {
      "displayName": "Sarah May",
      "photoUrl": "https://lh4.googleusercontent.com/-CO2Ps2DCMD8/AAAAAAAAAAI/AAAAAAAAv8w/wDaS83oSD7s/s64/photo.jpg",
      "userId": "13591673223454869279"
     },
     "user_tz": 300
    },
    "id": "fR4tq-WLe9sm",
    "outputId": "7d346108-bc13-4b88-a06b-73911bcef2de"
   },
   "outputs": [
    {
     "data": {
      "text/plain": [
       "'Wiley Post Will Rogers Mem'"
      ]
     },
     "execution_count": 8,
     "metadata": {},
     "output_type": "execute_result"
    }
   ],
   "source": [
    "northernmost_airport_name = (northernmost_airport['name']).to_string(index=False).lstrip()\n",
    "northernmost_airport_name"
   ]
  },
  {
   "cell_type": "markdown",
   "metadata": {
    "id": "iPe11dUKh-2k"
   },
   "source": [
    "## Question 1 Answer"
   ]
  },
  {
   "cell_type": "code",
   "execution_count": 9,
   "metadata": {
    "colab": {
     "base_uri": "https://localhost:8080/"
    },
    "executionInfo": {
     "elapsed": 1048,
     "status": "ok",
     "timestamp": 1615034020436,
     "user": {
      "displayName": "Sarah May",
      "photoUrl": "https://lh4.googleusercontent.com/-CO2Ps2DCMD8/AAAAAAAAAAI/AAAAAAAAv8w/wDaS83oSD7s/s64/photo.jpg",
      "userId": "13591673223454869279"
     },
     "user_tz": 300
    },
    "id": "1BbqnFfld5-1",
    "outputId": "f4ea1d50-4e2d-4540-c223-f726d808e555"
   },
   "outputs": [
    {
     "name": "stdout",
     "output_type": "stream",
     "text": [
      "The northernmost airport in the United States is Wiley Post Will Rogers Mem.\n"
     ]
    }
   ],
   "source": [
    "print('The northernmost airport in the United States is {}.'.format(northernmost_airport_name))"
   ]
  },
  {
   "cell_type": "markdown",
   "metadata": {
    "id": "1oCYtG1wiNKs"
   },
   "source": [
    "## Question 2\n",
    "\n",
    "What is the easternmost airport in the United States?"
   ]
  },
  {
   "cell_type": "code",
   "execution_count": 10,
   "metadata": {
    "colab": {
     "base_uri": "https://localhost:8080/"
    },
    "executionInfo": {
     "elapsed": 571,
     "status": "ok",
     "timestamp": 1615034335120,
     "user": {
      "displayName": "Sarah May",
      "photoUrl": "https://lh4.googleusercontent.com/-CO2Ps2DCMD8/AAAAAAAAAAI/AAAAAAAAv8w/wDaS83oSD7s/s64/photo.jpg",
      "userId": "13591673223454869279"
     },
     "user_tz": 300
    },
    "id": "GIB-O_z3i1NM",
    "outputId": "47d0e32b-b97d-4af3-f015-418df65e1a6e"
   },
   "outputs": [
    {
     "name": "stdout",
     "output_type": "stream",
     "text": [
      "<class 'pandas.core.frame.DataFrame'>\n",
      "RangeIndex: 1458 entries, 0 to 1457\n",
      "Data columns (total 8 columns):\n",
      " #   Column  Non-Null Count  Dtype  \n",
      "---  ------  --------------  -----  \n",
      " 0   faa     1458 non-null   object \n",
      " 1   name    1458 non-null   object \n",
      " 2   lat     1458 non-null   float64\n",
      " 3   lon     1458 non-null   float64\n",
      " 4   alt     1458 non-null   int64  \n",
      " 5   tz      1458 non-null   int64  \n",
      " 6   dst     1458 non-null   object \n",
      " 7   tzone   1455 non-null   object \n",
      "dtypes: float64(2), int64(2), object(4)\n",
      "memory usage: 91.2+ KB\n"
     ]
    }
   ],
   "source": [
    "# using the same dataset, the 'lon' column holds longtitude values\n",
    "airport_df.info()"
   ]
  },
  {
   "cell_type": "code",
   "execution_count": 11,
   "metadata": {
    "colab": {
     "base_uri": "https://localhost:8080/"
    },
    "executionInfo": {
     "elapsed": 605,
     "status": "ok",
     "timestamp": 1615035776719,
     "user": {
      "displayName": "Sarah May",
      "photoUrl": "https://lh4.googleusercontent.com/-CO2Ps2DCMD8/AAAAAAAAAAI/AAAAAAAAv8w/wDaS83oSD7s/s64/photo.jpg",
      "userId": "13591673223454869279"
     },
     "user_tz": 300
    },
    "id": "uJZ0YS6b7ThM",
    "outputId": "d9e7e7fc-5564-4c13-ddd5-e3acc88d7022"
   },
   "outputs": [
    {
     "data": {
      "text/plain": [
       "95     -176.646000\n",
       "112    -174.206389\n",
       "522    -171.733000\n",
       "1281   -170.493000\n",
       "1251   -170.220444\n",
       "           ...    \n",
       "624     -67.792056\n",
       "444     -67.012694\n",
       "396     112.457000\n",
       "942     117.759000\n",
       "1290    174.113620\n",
       "Name: lon, Length: 1458, dtype: float64"
      ]
     },
     "execution_count": 11,
     "metadata": {},
     "output_type": "execute_result"
    }
   ],
   "source": [
    "# view the range of the lon values\n",
    "airport_df.lon.sort_values()"
   ]
  },
  {
   "cell_type": "code",
   "execution_count": 12,
   "metadata": {
    "colab": {
     "base_uri": "https://localhost:8080/"
    },
    "executionInfo": {
     "elapsed": 1228,
     "status": "ok",
     "timestamp": 1615034424843,
     "user": {
      "displayName": "Sarah May",
      "photoUrl": "https://lh4.googleusercontent.com/-CO2Ps2DCMD8/AAAAAAAAAAI/AAAAAAAAv8w/wDaS83oSD7s/s64/photo.jpg",
      "userId": "13591673223454869279"
     },
     "user_tz": 300
    },
    "id": "Hr4P2RLk5eoY",
    "outputId": "15b0673c-0524-4c9e-aacf-f94edf2375f1"
   },
   "outputs": [
    {
     "data": {
      "text/plain": [
       "America/New_York       519\n",
       "America/Chicago        342\n",
       "America/Anchorage      239\n",
       "America/Los_Angeles    176\n",
       "America/Denver         119\n",
       "America/Phoenix         38\n",
       "Pacific/Honolulu        18\n",
       "America/Vancouver        2\n",
       "Asia/Chongqing           2\n",
       "Name: tzone, dtype: int64"
      ]
     },
     "execution_count": 12,
     "metadata": {},
     "output_type": "execute_result"
    }
   ],
   "source": [
    "# grouping by timezone may narrow the search\n",
    "airport_df['tzone'].value_counts()"
   ]
  },
  {
   "cell_type": "code",
   "execution_count": 13,
   "metadata": {
    "colab": {
     "base_uri": "https://localhost:8080/",
     "height": 402
    },
    "executionInfo": {
     "elapsed": 586,
     "status": "ok",
     "timestamp": 1615034524546,
     "user": {
      "displayName": "Sarah May",
      "photoUrl": "https://lh4.googleusercontent.com/-CO2Ps2DCMD8/AAAAAAAAAAI/AAAAAAAAv8w/wDaS83oSD7s/s64/photo.jpg",
      "userId": "13591673223454869279"
     },
     "user_tz": 300
    },
    "id": "8eS00TCYja3P",
    "outputId": "a85bf9fa-9304-4f99-ca06-d5537a548c16"
   },
   "outputs": [
    {
     "data": {
      "text/html": [
       "<div>\n",
       "<style scoped>\n",
       "    .dataframe tbody tr th:only-of-type {\n",
       "        vertical-align: middle;\n",
       "    }\n",
       "\n",
       "    .dataframe tbody tr th {\n",
       "        vertical-align: top;\n",
       "    }\n",
       "\n",
       "    .dataframe thead th {\n",
       "        text-align: right;\n",
       "    }\n",
       "</style>\n",
       "<table border=\"1\" class=\"dataframe\">\n",
       "  <thead>\n",
       "    <tr style=\"text-align: right;\">\n",
       "      <th></th>\n",
       "      <th>faa</th>\n",
       "      <th>name</th>\n",
       "      <th>lat</th>\n",
       "      <th>lon</th>\n",
       "      <th>alt</th>\n",
       "      <th>tz</th>\n",
       "      <th>dst</th>\n",
       "      <th>tzone</th>\n",
       "    </tr>\n",
       "  </thead>\n",
       "  <tbody>\n",
       "    <tr>\n",
       "      <th>207</th>\n",
       "      <td>BKH</td>\n",
       "      <td>Barking Sands Pmrf</td>\n",
       "      <td>22.022833</td>\n",
       "      <td>-159.785000</td>\n",
       "      <td>23</td>\n",
       "      <td>-10</td>\n",
       "      <td>A</td>\n",
       "      <td>Pacific/Honolulu</td>\n",
       "    </tr>\n",
       "    <tr>\n",
       "      <th>231</th>\n",
       "      <td>BSF</td>\n",
       "      <td>Bradshaw Aaf</td>\n",
       "      <td>19.760056</td>\n",
       "      <td>-155.553717</td>\n",
       "      <td>6190</td>\n",
       "      <td>-10</td>\n",
       "      <td>A</td>\n",
       "      <td>Pacific/Honolulu</td>\n",
       "    </tr>\n",
       "    <tr>\n",
       "      <th>580</th>\n",
       "      <td>HDH</td>\n",
       "      <td>Dillingham</td>\n",
       "      <td>21.579475</td>\n",
       "      <td>-158.197281</td>\n",
       "      <td>14</td>\n",
       "      <td>-10</td>\n",
       "      <td>A</td>\n",
       "      <td>Pacific/Honolulu</td>\n",
       "    </tr>\n",
       "    <tr>\n",
       "      <th>587</th>\n",
       "      <td>HHI</td>\n",
       "      <td>Wheeler Aaf</td>\n",
       "      <td>21.483500</td>\n",
       "      <td>-158.039667</td>\n",
       "      <td>837</td>\n",
       "      <td>-10</td>\n",
       "      <td>A</td>\n",
       "      <td>Pacific/Honolulu</td>\n",
       "    </tr>\n",
       "    <tr>\n",
       "      <th>600</th>\n",
       "      <td>HNL</td>\n",
       "      <td>Honolulu Intl</td>\n",
       "      <td>21.318681</td>\n",
       "      <td>-157.922428</td>\n",
       "      <td>13</td>\n",
       "      <td>-10</td>\n",
       "      <td>N</td>\n",
       "      <td>Pacific/Honolulu</td>\n",
       "    </tr>\n",
       "    <tr>\n",
       "      <th>...</th>\n",
       "      <td>...</td>\n",
       "      <td>...</td>\n",
       "      <td>...</td>\n",
       "      <td>...</td>\n",
       "      <td>...</td>\n",
       "      <td>...</td>\n",
       "      <td>...</td>\n",
       "      <td>...</td>\n",
       "    </tr>\n",
       "    <tr>\n",
       "      <th>1457</th>\n",
       "      <td>ZYP</td>\n",
       "      <td>Penn Station</td>\n",
       "      <td>40.750500</td>\n",
       "      <td>-73.993500</td>\n",
       "      <td>35</td>\n",
       "      <td>-5</td>\n",
       "      <td>A</td>\n",
       "      <td>America/New_York</td>\n",
       "    </tr>\n",
       "    <tr>\n",
       "      <th>417</th>\n",
       "      <td>EEN</td>\n",
       "      <td>Dillant Hopkins Airport</td>\n",
       "      <td>42.898333</td>\n",
       "      <td>-72.270833</td>\n",
       "      <td>149</td>\n",
       "      <td>-5</td>\n",
       "      <td>A</td>\n",
       "      <td>NaN</td>\n",
       "    </tr>\n",
       "    <tr>\n",
       "      <th>815</th>\n",
       "      <td>LRO</td>\n",
       "      <td>Mount Pleasant Regional-Faison Field</td>\n",
       "      <td>32.538700</td>\n",
       "      <td>-79.469700</td>\n",
       "      <td>12</td>\n",
       "      <td>-5</td>\n",
       "      <td>A</td>\n",
       "      <td>NaN</td>\n",
       "    </tr>\n",
       "    <tr>\n",
       "      <th>396</th>\n",
       "      <td>DVT</td>\n",
       "      <td>Deer Valley Municipal Airport</td>\n",
       "      <td>33.411700</td>\n",
       "      <td>112.457000</td>\n",
       "      <td>1478</td>\n",
       "      <td>8</td>\n",
       "      <td>A</td>\n",
       "      <td>Asia/Chongqing</td>\n",
       "    </tr>\n",
       "    <tr>\n",
       "      <th>942</th>\n",
       "      <td>MYF</td>\n",
       "      <td>Montgomery Field</td>\n",
       "      <td>32.475900</td>\n",
       "      <td>117.759000</td>\n",
       "      <td>17</td>\n",
       "      <td>8</td>\n",
       "      <td>A</td>\n",
       "      <td>Asia/Chongqing</td>\n",
       "    </tr>\n",
       "  </tbody>\n",
       "</table>\n",
       "<p>1458 rows × 8 columns</p>\n",
       "</div>"
      ],
      "text/plain": [
       "      faa                                  name        lat         lon   alt  \\\n",
       "207   BKH                    Barking Sands Pmrf  22.022833 -159.785000    23   \n",
       "231   BSF                          Bradshaw Aaf  19.760056 -155.553717  6190   \n",
       "580   HDH                            Dillingham  21.579475 -158.197281    14   \n",
       "587   HHI                           Wheeler Aaf  21.483500 -158.039667   837   \n",
       "600   HNL                         Honolulu Intl  21.318681 -157.922428    13   \n",
       "...   ...                                   ...        ...         ...   ...   \n",
       "1457  ZYP                          Penn Station  40.750500  -73.993500    35   \n",
       "417   EEN               Dillant Hopkins Airport  42.898333  -72.270833   149   \n",
       "815   LRO  Mount Pleasant Regional-Faison Field  32.538700  -79.469700    12   \n",
       "396   DVT         Deer Valley Municipal Airport  33.411700  112.457000  1478   \n",
       "942   MYF                      Montgomery Field  32.475900  117.759000    17   \n",
       "\n",
       "      tz dst             tzone  \n",
       "207  -10   A  Pacific/Honolulu  \n",
       "231  -10   A  Pacific/Honolulu  \n",
       "580  -10   A  Pacific/Honolulu  \n",
       "587  -10   A  Pacific/Honolulu  \n",
       "600  -10   N  Pacific/Honolulu  \n",
       "...   ..  ..               ...  \n",
       "1457  -5   A  America/New_York  \n",
       "417   -5   A               NaN  \n",
       "815   -5   A               NaN  \n",
       "396    8   A    Asia/Chongqing  \n",
       "942    8   A    Asia/Chongqing  \n",
       "\n",
       "[1458 rows x 8 columns]"
      ]
     },
     "execution_count": 13,
     "metadata": {},
     "output_type": "execute_result"
    }
   ],
   "source": [
    "# the corresponding 'tz' value may help identify the easternmost tzone\n",
    "airport_df.sort_values(['tz', 'tzone'])"
   ]
  },
  {
   "cell_type": "code",
   "execution_count": 14,
   "metadata": {
    "colab": {
     "base_uri": "https://localhost:8080/",
     "height": 343
    },
    "executionInfo": {
     "elapsed": 593,
     "status": "ok",
     "timestamp": 1615035233798,
     "user": {
      "displayName": "Sarah May",
      "photoUrl": "https://lh4.googleusercontent.com/-CO2Ps2DCMD8/AAAAAAAAAAI/AAAAAAAAv8w/wDaS83oSD7s/s64/photo.jpg",
      "userId": "13591673223454869279"
     },
     "user_tz": 300
    },
    "id": "Mz8IuvAUkBV2",
    "outputId": "785a70b0-f452-471f-b3ef-91a6610b4769"
   },
   "outputs": [
    {
     "data": {
      "text/html": [
       "<div>\n",
       "<style scoped>\n",
       "    .dataframe tbody tr th:only-of-type {\n",
       "        vertical-align: middle;\n",
       "    }\n",
       "\n",
       "    .dataframe tbody tr th {\n",
       "        vertical-align: top;\n",
       "    }\n",
       "\n",
       "    .dataframe thead th {\n",
       "        text-align: right;\n",
       "    }\n",
       "</style>\n",
       "<table border=\"1\" class=\"dataframe\">\n",
       "  <thead>\n",
       "    <tr style=\"text-align: right;\">\n",
       "      <th></th>\n",
       "      <th>min</th>\n",
       "      <th>max</th>\n",
       "    </tr>\n",
       "    <tr>\n",
       "      <th>tzone</th>\n",
       "      <th></th>\n",
       "      <th></th>\n",
       "    </tr>\n",
       "  </thead>\n",
       "  <tbody>\n",
       "    <tr>\n",
       "      <th>America/Anchorage</th>\n",
       "      <td>-9</td>\n",
       "      <td>-9</td>\n",
       "    </tr>\n",
       "    <tr>\n",
       "      <th>America/Chicago</th>\n",
       "      <td>-6</td>\n",
       "      <td>-6</td>\n",
       "    </tr>\n",
       "    <tr>\n",
       "      <th>America/Denver</th>\n",
       "      <td>-7</td>\n",
       "      <td>-7</td>\n",
       "    </tr>\n",
       "    <tr>\n",
       "      <th>America/Los_Angeles</th>\n",
       "      <td>-8</td>\n",
       "      <td>-8</td>\n",
       "    </tr>\n",
       "    <tr>\n",
       "      <th>America/New_York</th>\n",
       "      <td>-5</td>\n",
       "      <td>-5</td>\n",
       "    </tr>\n",
       "    <tr>\n",
       "      <th>America/Phoenix</th>\n",
       "      <td>-7</td>\n",
       "      <td>-7</td>\n",
       "    </tr>\n",
       "    <tr>\n",
       "      <th>America/Vancouver</th>\n",
       "      <td>-8</td>\n",
       "      <td>-8</td>\n",
       "    </tr>\n",
       "    <tr>\n",
       "      <th>Asia/Chongqing</th>\n",
       "      <td>8</td>\n",
       "      <td>8</td>\n",
       "    </tr>\n",
       "    <tr>\n",
       "      <th>Pacific/Honolulu</th>\n",
       "      <td>-10</td>\n",
       "      <td>-10</td>\n",
       "    </tr>\n",
       "  </tbody>\n",
       "</table>\n",
       "</div>"
      ],
      "text/plain": [
       "                     min  max\n",
       "tzone                        \n",
       "America/Anchorage     -9   -9\n",
       "America/Chicago       -6   -6\n",
       "America/Denver        -7   -7\n",
       "America/Los_Angeles   -8   -8\n",
       "America/New_York      -5   -5\n",
       "America/Phoenix       -7   -7\n",
       "America/Vancouver     -8   -8\n",
       "Asia/Chongqing         8    8\n",
       "Pacific/Honolulu     -10  -10"
      ]
     },
     "execution_count": 14,
     "metadata": {},
     "output_type": "execute_result"
    }
   ],
   "source": [
    "# which tzones correspond with which tz values?\n",
    "by_tzone = airport_df.groupby('tzone').tz.agg(['min', 'max'])\n",
    "by_tzone"
   ]
  },
  {
   "cell_type": "code",
   "execution_count": 15,
   "metadata": {
    "colab": {
     "base_uri": "https://localhost:8080/",
     "height": 343
    },
    "executionInfo": {
     "elapsed": 577,
     "status": "ok",
     "timestamp": 1615035299749,
     "user": {
      "displayName": "Sarah May",
      "photoUrl": "https://lh4.googleusercontent.com/-CO2Ps2DCMD8/AAAAAAAAAAI/AAAAAAAAv8w/wDaS83oSD7s/s64/photo.jpg",
      "userId": "13591673223454869279"
     },
     "user_tz": 300
    },
    "id": "oZhZ32dWlkTy",
    "outputId": "6a9841b7-b6a8-4287-e947-e7fa1bd5e472"
   },
   "outputs": [
    {
     "data": {
      "text/html": [
       "<div>\n",
       "<style scoped>\n",
       "    .dataframe tbody tr th:only-of-type {\n",
       "        vertical-align: middle;\n",
       "    }\n",
       "\n",
       "    .dataframe tbody tr th {\n",
       "        vertical-align: top;\n",
       "    }\n",
       "\n",
       "    .dataframe thead th {\n",
       "        text-align: right;\n",
       "    }\n",
       "</style>\n",
       "<table border=\"1\" class=\"dataframe\">\n",
       "  <thead>\n",
       "    <tr style=\"text-align: right;\">\n",
       "      <th></th>\n",
       "      <th>min</th>\n",
       "      <th>max</th>\n",
       "    </tr>\n",
       "    <tr>\n",
       "      <th>tzone</th>\n",
       "      <th></th>\n",
       "      <th></th>\n",
       "    </tr>\n",
       "  </thead>\n",
       "  <tbody>\n",
       "    <tr>\n",
       "      <th>Pacific/Honolulu</th>\n",
       "      <td>-10</td>\n",
       "      <td>-10</td>\n",
       "    </tr>\n",
       "    <tr>\n",
       "      <th>America/Anchorage</th>\n",
       "      <td>-9</td>\n",
       "      <td>-9</td>\n",
       "    </tr>\n",
       "    <tr>\n",
       "      <th>America/Los_Angeles</th>\n",
       "      <td>-8</td>\n",
       "      <td>-8</td>\n",
       "    </tr>\n",
       "    <tr>\n",
       "      <th>America/Vancouver</th>\n",
       "      <td>-8</td>\n",
       "      <td>-8</td>\n",
       "    </tr>\n",
       "    <tr>\n",
       "      <th>America/Denver</th>\n",
       "      <td>-7</td>\n",
       "      <td>-7</td>\n",
       "    </tr>\n",
       "    <tr>\n",
       "      <th>America/Phoenix</th>\n",
       "      <td>-7</td>\n",
       "      <td>-7</td>\n",
       "    </tr>\n",
       "    <tr>\n",
       "      <th>America/Chicago</th>\n",
       "      <td>-6</td>\n",
       "      <td>-6</td>\n",
       "    </tr>\n",
       "    <tr>\n",
       "      <th>America/New_York</th>\n",
       "      <td>-5</td>\n",
       "      <td>-5</td>\n",
       "    </tr>\n",
       "    <tr>\n",
       "      <th>Asia/Chongqing</th>\n",
       "      <td>8</td>\n",
       "      <td>8</td>\n",
       "    </tr>\n",
       "  </tbody>\n",
       "</table>\n",
       "</div>"
      ],
      "text/plain": [
       "                     min  max\n",
       "tzone                        \n",
       "Pacific/Honolulu     -10  -10\n",
       "America/Anchorage     -9   -9\n",
       "America/Los_Angeles   -8   -8\n",
       "America/Vancouver     -8   -8\n",
       "America/Denver        -7   -7\n",
       "America/Phoenix       -7   -7\n",
       "America/Chicago       -6   -6\n",
       "America/New_York      -5   -5\n",
       "Asia/Chongqing         8    8"
      ]
     },
     "execution_count": 15,
     "metadata": {},
     "output_type": "execute_result"
    }
   ],
   "source": [
    "# tz -5 appears to be the easternmost tz in the United States\n",
    "by_tzone.sort_values('min')"
   ]
  },
  {
   "cell_type": "code",
   "execution_count": 16,
   "metadata": {
    "colab": {
     "base_uri": "https://localhost:8080/",
     "height": 402
    },
    "executionInfo": {
     "elapsed": 574,
     "status": "ok",
     "timestamp": 1615035974239,
     "user": {
      "displayName": "Sarah May",
      "photoUrl": "https://lh4.googleusercontent.com/-CO2Ps2DCMD8/AAAAAAAAAAI/AAAAAAAAv8w/wDaS83oSD7s/s64/photo.jpg",
      "userId": "13591673223454869279"
     },
     "user_tz": 300
    },
    "id": "5h3gGJYM8JJF",
    "outputId": "53fcd858-2b37-4653-e66d-47b661e9145d"
   },
   "outputs": [
    {
     "data": {
      "text/html": [
       "<div>\n",
       "<style scoped>\n",
       "    .dataframe tbody tr th:only-of-type {\n",
       "        vertical-align: middle;\n",
       "    }\n",
       "\n",
       "    .dataframe tbody tr th {\n",
       "        vertical-align: top;\n",
       "    }\n",
       "\n",
       "    .dataframe thead th {\n",
       "        text-align: right;\n",
       "    }\n",
       "</style>\n",
       "<table border=\"1\" class=\"dataframe\">\n",
       "  <thead>\n",
       "    <tr style=\"text-align: right;\">\n",
       "      <th></th>\n",
       "      <th>faa</th>\n",
       "      <th>name</th>\n",
       "      <th>lat</th>\n",
       "      <th>lon</th>\n",
       "      <th>alt</th>\n",
       "      <th>tz</th>\n",
       "      <th>dst</th>\n",
       "      <th>tzone</th>\n",
       "    </tr>\n",
       "  </thead>\n",
       "  <tbody>\n",
       "    <tr>\n",
       "      <th>310</th>\n",
       "      <td>CMX</td>\n",
       "      <td>Houghton County Memorial Airport</td>\n",
       "      <td>47.168400</td>\n",
       "      <td>-88.489100</td>\n",
       "      <td>1095</td>\n",
       "      <td>-5</td>\n",
       "      <td>A</td>\n",
       "      <td>America/New_York</td>\n",
       "    </tr>\n",
       "    <tr>\n",
       "      <th>913</th>\n",
       "      <td>MQT</td>\n",
       "      <td>Sawyer International Airport</td>\n",
       "      <td>46.353611</td>\n",
       "      <td>-87.395278</td>\n",
       "      <td>1221</td>\n",
       "      <td>-5</td>\n",
       "      <td>A</td>\n",
       "      <td>America/New_York</td>\n",
       "    </tr>\n",
       "    <tr>\n",
       "      <th>623</th>\n",
       "      <td>HUF</td>\n",
       "      <td>Terre Haute Intl Hulman Fld</td>\n",
       "      <td>39.451464</td>\n",
       "      <td>-87.307561</td>\n",
       "      <td>589</td>\n",
       "      <td>-5</td>\n",
       "      <td>A</td>\n",
       "      <td>America/New_York</td>\n",
       "    </tr>\n",
       "    <tr>\n",
       "      <th>449</th>\n",
       "      <td>ESC</td>\n",
       "      <td>Delta County Airport</td>\n",
       "      <td>45.722778</td>\n",
       "      <td>-87.093611</td>\n",
       "      <td>609</td>\n",
       "      <td>-5</td>\n",
       "      <td>A</td>\n",
       "      <td>America/New_York</td>\n",
       "    </tr>\n",
       "    <tr>\n",
       "      <th>763</th>\n",
       "      <td>LAF</td>\n",
       "      <td>Purude University Airport</td>\n",
       "      <td>40.412306</td>\n",
       "      <td>-86.936889</td>\n",
       "      <td>606</td>\n",
       "      <td>-5</td>\n",
       "      <td>A</td>\n",
       "      <td>America/New_York</td>\n",
       "    </tr>\n",
       "    <tr>\n",
       "      <th>...</th>\n",
       "      <td>...</td>\n",
       "      <td>...</td>\n",
       "      <td>...</td>\n",
       "      <td>...</td>\n",
       "      <td>...</td>\n",
       "      <td>...</td>\n",
       "      <td>...</td>\n",
       "      <td>...</td>\n",
       "    </tr>\n",
       "    <tr>\n",
       "      <th>1398</th>\n",
       "      <td>WFK</td>\n",
       "      <td>Northern Aroostook Regional Airport</td>\n",
       "      <td>47.285556</td>\n",
       "      <td>-68.312778</td>\n",
       "      <td>988</td>\n",
       "      <td>-5</td>\n",
       "      <td>A</td>\n",
       "      <td>America/New_York</td>\n",
       "    </tr>\n",
       "    <tr>\n",
       "      <th>1101</th>\n",
       "      <td>PQI</td>\n",
       "      <td>Northern Maine Rgnl At Presque Isle</td>\n",
       "      <td>46.688958</td>\n",
       "      <td>-68.044797</td>\n",
       "      <td>534</td>\n",
       "      <td>-5</td>\n",
       "      <td>A</td>\n",
       "      <td>America/New_York</td>\n",
       "    </tr>\n",
       "    <tr>\n",
       "      <th>259</th>\n",
       "      <td>CAR</td>\n",
       "      <td>Caribou Muni</td>\n",
       "      <td>46.871500</td>\n",
       "      <td>-68.017917</td>\n",
       "      <td>626</td>\n",
       "      <td>-5</td>\n",
       "      <td>A</td>\n",
       "      <td>America/New_York</td>\n",
       "    </tr>\n",
       "    <tr>\n",
       "      <th>624</th>\n",
       "      <td>HUL</td>\n",
       "      <td>Houlton Intl</td>\n",
       "      <td>46.123083</td>\n",
       "      <td>-67.792056</td>\n",
       "      <td>489</td>\n",
       "      <td>-5</td>\n",
       "      <td>A</td>\n",
       "      <td>America/New_York</td>\n",
       "    </tr>\n",
       "    <tr>\n",
       "      <th>444</th>\n",
       "      <td>EPM</td>\n",
       "      <td>Eastport Municipal Airport</td>\n",
       "      <td>44.910111</td>\n",
       "      <td>-67.012694</td>\n",
       "      <td>45</td>\n",
       "      <td>-5</td>\n",
       "      <td>A</td>\n",
       "      <td>America/New_York</td>\n",
       "    </tr>\n",
       "  </tbody>\n",
       "</table>\n",
       "<p>521 rows × 8 columns</p>\n",
       "</div>"
      ],
      "text/plain": [
       "      faa                                 name        lat        lon   alt  \\\n",
       "310   CMX     Houghton County Memorial Airport  47.168400 -88.489100  1095   \n",
       "913   MQT         Sawyer International Airport  46.353611 -87.395278  1221   \n",
       "623   HUF          Terre Haute Intl Hulman Fld  39.451464 -87.307561   589   \n",
       "449   ESC                 Delta County Airport  45.722778 -87.093611   609   \n",
       "763   LAF            Purude University Airport  40.412306 -86.936889   606   \n",
       "...   ...                                  ...        ...        ...   ...   \n",
       "1398  WFK  Northern Aroostook Regional Airport  47.285556 -68.312778   988   \n",
       "1101  PQI  Northern Maine Rgnl At Presque Isle  46.688958 -68.044797   534   \n",
       "259   CAR                         Caribou Muni  46.871500 -68.017917   626   \n",
       "624   HUL                         Houlton Intl  46.123083 -67.792056   489   \n",
       "444   EPM           Eastport Municipal Airport  44.910111 -67.012694    45   \n",
       "\n",
       "      tz dst             tzone  \n",
       "310   -5   A  America/New_York  \n",
       "913   -5   A  America/New_York  \n",
       "623   -5   A  America/New_York  \n",
       "449   -5   A  America/New_York  \n",
       "763   -5   A  America/New_York  \n",
       "...   ..  ..               ...  \n",
       "1398  -5   A  America/New_York  \n",
       "1101  -5   A  America/New_York  \n",
       "259   -5   A  America/New_York  \n",
       "624   -5   A  America/New_York  \n",
       "444   -5   A  America/New_York  \n",
       "\n",
       "[521 rows x 8 columns]"
      ]
     },
     "execution_count": 16,
     "metadata": {},
     "output_type": "execute_result"
    }
   ],
   "source": [
    "# sorting the df by lon values in the -5 tz narrows the search\n",
    "tz_neg5 = airport_df[(airport_df.tz == -5)].sort_values('lon')\n",
    "tz_neg5"
   ]
  },
  {
   "cell_type": "code",
   "execution_count": 17,
   "metadata": {
    "colab": {
     "base_uri": "https://localhost:8080/",
     "height": 77
    },
    "executionInfo": {
     "elapsed": 613,
     "status": "ok",
     "timestamp": 1615036193677,
     "user": {
      "displayName": "Sarah May",
      "photoUrl": "https://lh4.googleusercontent.com/-CO2Ps2DCMD8/AAAAAAAAAAI/AAAAAAAAv8w/wDaS83oSD7s/s64/photo.jpg",
      "userId": "13591673223454869279"
     },
     "user_tz": 300
    },
    "id": "PF_SYSCCo36Z",
    "outputId": "65a38d1a-14cc-45d8-ab32-a57e6ba57a35"
   },
   "outputs": [
    {
     "data": {
      "text/html": [
       "<div>\n",
       "<style scoped>\n",
       "    .dataframe tbody tr th:only-of-type {\n",
       "        vertical-align: middle;\n",
       "    }\n",
       "\n",
       "    .dataframe tbody tr th {\n",
       "        vertical-align: top;\n",
       "    }\n",
       "\n",
       "    .dataframe thead th {\n",
       "        text-align: right;\n",
       "    }\n",
       "</style>\n",
       "<table border=\"1\" class=\"dataframe\">\n",
       "  <thead>\n",
       "    <tr style=\"text-align: right;\">\n",
       "      <th></th>\n",
       "      <th>faa</th>\n",
       "      <th>name</th>\n",
       "      <th>lat</th>\n",
       "      <th>lon</th>\n",
       "      <th>alt</th>\n",
       "      <th>tz</th>\n",
       "      <th>dst</th>\n",
       "      <th>tzone</th>\n",
       "    </tr>\n",
       "  </thead>\n",
       "  <tbody>\n",
       "    <tr>\n",
       "      <th>444</th>\n",
       "      <td>EPM</td>\n",
       "      <td>Eastport Municipal Airport</td>\n",
       "      <td>44.910111</td>\n",
       "      <td>-67.012694</td>\n",
       "      <td>45</td>\n",
       "      <td>-5</td>\n",
       "      <td>A</td>\n",
       "      <td>America/New_York</td>\n",
       "    </tr>\n",
       "  </tbody>\n",
       "</table>\n",
       "</div>"
      ],
      "text/plain": [
       "     faa                        name        lat        lon  alt  tz dst  \\\n",
       "444  EPM  Eastport Municipal Airport  44.910111 -67.012694   45  -5   A   \n",
       "\n",
       "                tzone  \n",
       "444  America/New_York  "
      ]
     },
     "execution_count": 17,
     "metadata": {},
     "output_type": "execute_result"
    }
   ],
   "source": [
    "easternnmost_airport = tz_neg5[tz_neg5.lon == tz_neg5.lon.max()]\n",
    "easternnmost_airport"
   ]
  },
  {
   "cell_type": "markdown",
   "metadata": {
    "id": "DtKKoDhDpxiR"
   },
   "source": [
    "Using Google Maps as a reference, I verified that EPM airport in Maine appears to be the at the easternmost point of this data set."
   ]
  },
  {
   "cell_type": "code",
   "execution_count": 18,
   "metadata": {
    "colab": {
     "base_uri": "https://localhost:8080/",
     "height": 35
    },
    "executionInfo": {
     "elapsed": 589,
     "status": "ok",
     "timestamp": 1615036261170,
     "user": {
      "displayName": "Sarah May",
      "photoUrl": "https://lh4.googleusercontent.com/-CO2Ps2DCMD8/AAAAAAAAAAI/AAAAAAAAv8w/wDaS83oSD7s/s64/photo.jpg",
      "userId": "13591673223454869279"
     },
     "user_tz": 300
    },
    "id": "EwdcApNlp9YG",
    "outputId": "838b14d1-acef-4836-aa7e-c693327ceeb9"
   },
   "outputs": [
    {
     "data": {
      "text/plain": [
       "'Eastport Municipal Airport'"
      ]
     },
     "execution_count": 18,
     "metadata": {},
     "output_type": "execute_result"
    }
   ],
   "source": [
    "easternmost_airport_name = (easternnmost_airport['name']).to_string(index=False).lstrip()\n",
    "easternmost_airport_name"
   ]
  },
  {
   "cell_type": "markdown",
   "metadata": {
    "id": "3zGR23jTBIpj"
   },
   "source": [
    "## Question 2 Answer"
   ]
  },
  {
   "cell_type": "code",
   "execution_count": 19,
   "metadata": {
    "colab": {
     "base_uri": "https://localhost:8080/"
    },
    "executionInfo": {
     "elapsed": 634,
     "status": "ok",
     "timestamp": 1615036330290,
     "user": {
      "displayName": "Sarah May",
      "photoUrl": "https://lh4.googleusercontent.com/-CO2Ps2DCMD8/AAAAAAAAAAI/AAAAAAAAv8w/wDaS83oSD7s/s64/photo.jpg",
      "userId": "13591673223454869279"
     },
     "user_tz": 300
    },
    "id": "wbKotfB7qlQO",
    "outputId": "6f70d31a-6d75-4b2c-e85c-772b5af6ceaa"
   },
   "outputs": [
    {
     "name": "stdout",
     "output_type": "stream",
     "text": [
      "The easternmost airport in the United States is Eastport Municipal Airport.\n"
     ]
    }
   ],
   "source": [
    "print('The easternmost airport in the United States is {}.'.format(easternmost_airport_name))"
   ]
  },
  {
   "cell_type": "markdown",
   "metadata": {
    "id": "WjHuPM0oq29H"
   },
   "source": [
    "## Question 3\n",
    "\n",
    "On February 12th, 2013, which New York area airport had the windiest weather?"
   ]
  },
  {
   "cell_type": "code",
   "execution_count": 20,
   "metadata": {
    "executionInfo": {
     "elapsed": 936,
     "status": "ok",
     "timestamp": 1615037815619,
     "user": {
      "displayName": "Sarah May",
      "photoUrl": "https://lh4.googleusercontent.com/-CO2Ps2DCMD8/AAAAAAAAAAI/AAAAAAAAv8w/wDaS83oSD7s/s64/photo.jpg",
      "userId": "13591673223454869279"
     },
     "user_tz": 300
    },
    "id": "5PvHjJd04_pP"
   },
   "outputs": [],
   "source": [
    "# read the weather.csv and save as a pandas DataFrame\n",
    "weather_df = pd.read_csv('https://raw.githubusercontent.com/hadley/nycflights13/master/data-raw/weather.csv')"
   ]
  },
  {
   "cell_type": "code",
   "execution_count": 21,
   "metadata": {
    "colab": {
     "base_uri": "https://localhost:8080/"
    },
    "executionInfo": {
     "elapsed": 308,
     "status": "ok",
     "timestamp": 1615037816547,
     "user": {
      "displayName": "Sarah May",
      "photoUrl": "https://lh4.googleusercontent.com/-CO2Ps2DCMD8/AAAAAAAAAAI/AAAAAAAAv8w/wDaS83oSD7s/s64/photo.jpg",
      "userId": "13591673223454869279"
     },
     "user_tz": 300
    },
    "id": "dsW4Kra343pr",
    "outputId": "37499d88-05e4-44e5-eaf1-35911de4dc58"
   },
   "outputs": [
    {
     "name": "stdout",
     "output_type": "stream",
     "text": [
      "<class 'pandas.core.frame.DataFrame'>\n",
      "RangeIndex: 26115 entries, 0 to 26114\n",
      "Data columns (total 15 columns):\n",
      " #   Column      Non-Null Count  Dtype  \n",
      "---  ------      --------------  -----  \n",
      " 0   origin      26115 non-null  object \n",
      " 1   year        26115 non-null  int64  \n",
      " 2   month       26115 non-null  int64  \n",
      " 3   day         26115 non-null  int64  \n",
      " 4   hour        26115 non-null  int64  \n",
      " 5   temp        26114 non-null  float64\n",
      " 6   dewp        26114 non-null  float64\n",
      " 7   humid       26114 non-null  float64\n",
      " 8   wind_dir    25655 non-null  float64\n",
      " 9   wind_speed  26111 non-null  float64\n",
      " 10  wind_gust   5337 non-null   float64\n",
      " 11  precip      26115 non-null  float64\n",
      " 12  pressure    23386 non-null  float64\n",
      " 13  visib       26115 non-null  float64\n",
      " 14  time_hour   26115 non-null  object \n",
      "dtypes: float64(9), int64(4), object(2)\n",
      "memory usage: 3.0+ MB\n"
     ]
    }
   ],
   "source": [
    "# there are 15 columns, three of which pertain to wind\n",
    "weather_df.info()"
   ]
  },
  {
   "cell_type": "code",
   "execution_count": 22,
   "metadata": {
    "colab": {
     "base_uri": "https://localhost:8080/",
     "height": 195
    },
    "executionInfo": {
     "elapsed": 714,
     "status": "ok",
     "timestamp": 1615037819640,
     "user": {
      "displayName": "Sarah May",
      "photoUrl": "https://lh4.googleusercontent.com/-CO2Ps2DCMD8/AAAAAAAAAAI/AAAAAAAAv8w/wDaS83oSD7s/s64/photo.jpg",
      "userId": "13591673223454869279"
     },
     "user_tz": 300
    },
    "id": "-qW9FEPc6UE8",
    "outputId": "19e2629f-1feb-4de1-c36f-2e09954a560e"
   },
   "outputs": [
    {
     "data": {
      "text/html": [
       "<div>\n",
       "<style scoped>\n",
       "    .dataframe tbody tr th:only-of-type {\n",
       "        vertical-align: middle;\n",
       "    }\n",
       "\n",
       "    .dataframe tbody tr th {\n",
       "        vertical-align: top;\n",
       "    }\n",
       "\n",
       "    .dataframe thead th {\n",
       "        text-align: right;\n",
       "    }\n",
       "</style>\n",
       "<table border=\"1\" class=\"dataframe\">\n",
       "  <thead>\n",
       "    <tr style=\"text-align: right;\">\n",
       "      <th></th>\n",
       "      <th>origin</th>\n",
       "      <th>year</th>\n",
       "      <th>month</th>\n",
       "      <th>day</th>\n",
       "      <th>hour</th>\n",
       "      <th>temp</th>\n",
       "      <th>dewp</th>\n",
       "      <th>humid</th>\n",
       "      <th>wind_dir</th>\n",
       "      <th>wind_speed</th>\n",
       "      <th>wind_gust</th>\n",
       "      <th>precip</th>\n",
       "      <th>pressure</th>\n",
       "      <th>visib</th>\n",
       "      <th>time_hour</th>\n",
       "    </tr>\n",
       "  </thead>\n",
       "  <tbody>\n",
       "    <tr>\n",
       "      <th>0</th>\n",
       "      <td>EWR</td>\n",
       "      <td>2013</td>\n",
       "      <td>1</td>\n",
       "      <td>1</td>\n",
       "      <td>1</td>\n",
       "      <td>39.02</td>\n",
       "      <td>26.06</td>\n",
       "      <td>59.37</td>\n",
       "      <td>270.0</td>\n",
       "      <td>10.35702</td>\n",
       "      <td>NaN</td>\n",
       "      <td>0.0</td>\n",
       "      <td>1012.0</td>\n",
       "      <td>10.0</td>\n",
       "      <td>2013-01-01T06:00:00Z</td>\n",
       "    </tr>\n",
       "    <tr>\n",
       "      <th>1</th>\n",
       "      <td>EWR</td>\n",
       "      <td>2013</td>\n",
       "      <td>1</td>\n",
       "      <td>1</td>\n",
       "      <td>2</td>\n",
       "      <td>39.02</td>\n",
       "      <td>26.96</td>\n",
       "      <td>61.63</td>\n",
       "      <td>250.0</td>\n",
       "      <td>8.05546</td>\n",
       "      <td>NaN</td>\n",
       "      <td>0.0</td>\n",
       "      <td>1012.3</td>\n",
       "      <td>10.0</td>\n",
       "      <td>2013-01-01T07:00:00Z</td>\n",
       "    </tr>\n",
       "    <tr>\n",
       "      <th>2</th>\n",
       "      <td>EWR</td>\n",
       "      <td>2013</td>\n",
       "      <td>1</td>\n",
       "      <td>1</td>\n",
       "      <td>3</td>\n",
       "      <td>39.02</td>\n",
       "      <td>28.04</td>\n",
       "      <td>64.43</td>\n",
       "      <td>240.0</td>\n",
       "      <td>11.50780</td>\n",
       "      <td>NaN</td>\n",
       "      <td>0.0</td>\n",
       "      <td>1012.5</td>\n",
       "      <td>10.0</td>\n",
       "      <td>2013-01-01T08:00:00Z</td>\n",
       "    </tr>\n",
       "    <tr>\n",
       "      <th>3</th>\n",
       "      <td>EWR</td>\n",
       "      <td>2013</td>\n",
       "      <td>1</td>\n",
       "      <td>1</td>\n",
       "      <td>4</td>\n",
       "      <td>39.92</td>\n",
       "      <td>28.04</td>\n",
       "      <td>62.21</td>\n",
       "      <td>250.0</td>\n",
       "      <td>12.65858</td>\n",
       "      <td>NaN</td>\n",
       "      <td>0.0</td>\n",
       "      <td>1012.2</td>\n",
       "      <td>10.0</td>\n",
       "      <td>2013-01-01T09:00:00Z</td>\n",
       "    </tr>\n",
       "    <tr>\n",
       "      <th>4</th>\n",
       "      <td>EWR</td>\n",
       "      <td>2013</td>\n",
       "      <td>1</td>\n",
       "      <td>1</td>\n",
       "      <td>5</td>\n",
       "      <td>39.02</td>\n",
       "      <td>28.04</td>\n",
       "      <td>64.43</td>\n",
       "      <td>260.0</td>\n",
       "      <td>12.65858</td>\n",
       "      <td>NaN</td>\n",
       "      <td>0.0</td>\n",
       "      <td>1011.9</td>\n",
       "      <td>10.0</td>\n",
       "      <td>2013-01-01T10:00:00Z</td>\n",
       "    </tr>\n",
       "  </tbody>\n",
       "</table>\n",
       "</div>"
      ],
      "text/plain": [
       "  origin  year  month  day  hour   temp   dewp  humid  wind_dir  wind_speed  \\\n",
       "0    EWR  2013      1    1     1  39.02  26.06  59.37     270.0    10.35702   \n",
       "1    EWR  2013      1    1     2  39.02  26.96  61.63     250.0     8.05546   \n",
       "2    EWR  2013      1    1     3  39.02  28.04  64.43     240.0    11.50780   \n",
       "3    EWR  2013      1    1     4  39.92  28.04  62.21     250.0    12.65858   \n",
       "4    EWR  2013      1    1     5  39.02  28.04  64.43     260.0    12.65858   \n",
       "\n",
       "   wind_gust  precip  pressure  visib             time_hour  \n",
       "0        NaN     0.0    1012.0   10.0  2013-01-01T06:00:00Z  \n",
       "1        NaN     0.0    1012.3   10.0  2013-01-01T07:00:00Z  \n",
       "2        NaN     0.0    1012.5   10.0  2013-01-01T08:00:00Z  \n",
       "3        NaN     0.0    1012.2   10.0  2013-01-01T09:00:00Z  \n",
       "4        NaN     0.0    1011.9   10.0  2013-01-01T10:00:00Z  "
      ]
     },
     "execution_count": 22,
     "metadata": {},
     "output_type": "execute_result"
    }
   ],
   "source": [
    "# .head() shows a snapshot of the data\n",
    "weather_df.head()"
   ]
  },
  {
   "cell_type": "code",
   "execution_count": 23,
   "metadata": {
    "colab": {
     "base_uri": "https://localhost:8080/"
    },
    "executionInfo": {
     "elapsed": 614,
     "status": "ok",
     "timestamp": 1615037822816,
     "user": {
      "displayName": "Sarah May",
      "photoUrl": "https://lh4.googleusercontent.com/-CO2Ps2DCMD8/AAAAAAAAAAI/AAAAAAAAv8w/wDaS83oSD7s/s64/photo.jpg",
      "userId": "13591673223454869279"
     },
     "user_tz": 300
    },
    "id": "OqReWtfQv6Z-",
    "outputId": "aec7ca60-666a-4640-cdf0-95121f4877eb"
   },
   "outputs": [
    {
     "data": {
      "text/plain": [
       "origin            0\n",
       "year              0\n",
       "month             0\n",
       "day               0\n",
       "hour              0\n",
       "temp              1\n",
       "dewp              1\n",
       "humid             1\n",
       "wind_dir        460\n",
       "wind_speed        4\n",
       "wind_gust     20778\n",
       "precip            0\n",
       "pressure       2729\n",
       "visib             0\n",
       "time_hour         0\n",
       "dtype: int64"
      ]
     },
     "execution_count": 23,
     "metadata": {},
     "output_type": "execute_result"
    }
   ],
   "source": [
    "# in the .head() snapshot, the wind_gust column appears hold only null values\n",
    "# I can verify the number of null values using the .isnull() and .sum() methods\n",
    "weather_df.isnull().sum()"
   ]
  },
  {
   "cell_type": "markdown",
   "metadata": {
    "id": "cf7LveR3w2-n"
   },
   "source": [
    "More than 20 thousand of the approximately 26 thousand records have null wind_gust values. 460 wind_dir values are null. To answer question 3 I will use the wind_speed values. The highest wind_speed values will be considered the windiest."
   ]
  },
  {
   "cell_type": "code",
   "execution_count": 24,
   "metadata": {
    "colab": {
     "base_uri": "https://localhost:8080/"
    },
    "executionInfo": {
     "elapsed": 288,
     "status": "ok",
     "timestamp": 1614992519347,
     "user": {
      "displayName": "Sarah May",
      "photoUrl": "https://lh4.googleusercontent.com/-CO2Ps2DCMD8/AAAAAAAAAAI/AAAAAAAAv8w/wDaS83oSD7s/s64/photo.jpg",
      "userId": "13591673223454869279"
     },
     "user_tz": 300
    },
    "id": "RICmPNLWDfdc",
    "outputId": "9fc86311-0906-43ba-af40-f9af66244861"
   },
   "outputs": [
    {
     "data": {
      "text/plain": [
       "LGA    8706\n",
       "JFK    8706\n",
       "EWR    8703\n",
       "Name: origin, dtype: int64"
      ]
     },
     "execution_count": 24,
     "metadata": {},
     "output_type": "execute_result"
    }
   ],
   "source": [
    "# the question asks about NY area airports\n",
    "# which airports are included in this data set?\n",
    "weather_df.origin.value_counts()"
   ]
  },
  {
   "cell_type": "code",
   "execution_count": 25,
   "metadata": {
    "colab": {
     "base_uri": "https://localhost:8080/",
     "height": 758
    },
    "executionInfo": {
     "elapsed": 563,
     "status": "ok",
     "timestamp": 1615039205561,
     "user": {
      "displayName": "Sarah May",
      "photoUrl": "https://lh4.googleusercontent.com/-CO2Ps2DCMD8/AAAAAAAAAAI/AAAAAAAAv8w/wDaS83oSD7s/s64/photo.jpg",
      "userId": "13591673223454869279"
     },
     "user_tz": 300
    },
    "id": "TH6VUYzb1Pfh",
    "outputId": "0f9ee212-dbe6-4736-a161-81aa2caf436e"
   },
   "outputs": [
    {
     "data": {
      "text/html": [
       "<div>\n",
       "<style scoped>\n",
       "    .dataframe tbody tr th:only-of-type {\n",
       "        vertical-align: middle;\n",
       "    }\n",
       "\n",
       "    .dataframe tbody tr th {\n",
       "        vertical-align: top;\n",
       "    }\n",
       "\n",
       "    .dataframe thead th {\n",
       "        text-align: right;\n",
       "    }\n",
       "</style>\n",
       "<table border=\"1\" class=\"dataframe\">\n",
       "  <thead>\n",
       "    <tr style=\"text-align: right;\">\n",
       "      <th></th>\n",
       "      <th>origin</th>\n",
       "      <th>year</th>\n",
       "      <th>month</th>\n",
       "      <th>day</th>\n",
       "      <th>hour</th>\n",
       "      <th>temp</th>\n",
       "      <th>dewp</th>\n",
       "      <th>humid</th>\n",
       "      <th>wind_dir</th>\n",
       "      <th>wind_speed</th>\n",
       "      <th>wind_gust</th>\n",
       "      <th>precip</th>\n",
       "      <th>pressure</th>\n",
       "      <th>visib</th>\n",
       "      <th>time_hour</th>\n",
       "    </tr>\n",
       "  </thead>\n",
       "  <tbody>\n",
       "    <tr>\n",
       "      <th>1006</th>\n",
       "      <td>EWR</td>\n",
       "      <td>2013</td>\n",
       "      <td>2</td>\n",
       "      <td>12</td>\n",
       "      <td>0</td>\n",
       "      <td>39.92</td>\n",
       "      <td>39.02</td>\n",
       "      <td>96.55</td>\n",
       "      <td>240.0</td>\n",
       "      <td>6.90468</td>\n",
       "      <td>NaN</td>\n",
       "      <td>0.0</td>\n",
       "      <td>1006.9</td>\n",
       "      <td>10.0</td>\n",
       "      <td>2013-02-12T05:00:00Z</td>\n",
       "    </tr>\n",
       "    <tr>\n",
       "      <th>1007</th>\n",
       "      <td>EWR</td>\n",
       "      <td>2013</td>\n",
       "      <td>2</td>\n",
       "      <td>12</td>\n",
       "      <td>1</td>\n",
       "      <td>39.92</td>\n",
       "      <td>37.94</td>\n",
       "      <td>92.56</td>\n",
       "      <td>250.0</td>\n",
       "      <td>9.20624</td>\n",
       "      <td>NaN</td>\n",
       "      <td>0.0</td>\n",
       "      <td>1007.2</td>\n",
       "      <td>10.0</td>\n",
       "      <td>2013-02-12T06:00:00Z</td>\n",
       "    </tr>\n",
       "    <tr>\n",
       "      <th>1008</th>\n",
       "      <td>EWR</td>\n",
       "      <td>2013</td>\n",
       "      <td>2</td>\n",
       "      <td>12</td>\n",
       "      <td>2</td>\n",
       "      <td>39.92</td>\n",
       "      <td>28.04</td>\n",
       "      <td>62.21</td>\n",
       "      <td>270.0</td>\n",
       "      <td>20.71404</td>\n",
       "      <td>25.31716</td>\n",
       "      <td>0.0</td>\n",
       "      <td>1007.8</td>\n",
       "      <td>10.0</td>\n",
       "      <td>2013-02-12T07:00:00Z</td>\n",
       "    </tr>\n",
       "    <tr>\n",
       "      <th>1009</th>\n",
       "      <td>EWR</td>\n",
       "      <td>2013</td>\n",
       "      <td>2</td>\n",
       "      <td>12</td>\n",
       "      <td>3</td>\n",
       "      <td>39.02</td>\n",
       "      <td>26.96</td>\n",
       "      <td>61.63</td>\n",
       "      <td>260.0</td>\n",
       "      <td>1048.36058</td>\n",
       "      <td>NaN</td>\n",
       "      <td>0.0</td>\n",
       "      <td>1008.3</td>\n",
       "      <td>10.0</td>\n",
       "      <td>2013-02-12T08:00:00Z</td>\n",
       "    </tr>\n",
       "    <tr>\n",
       "      <th>1010</th>\n",
       "      <td>EWR</td>\n",
       "      <td>2013</td>\n",
       "      <td>2</td>\n",
       "      <td>12</td>\n",
       "      <td>4</td>\n",
       "      <td>39.02</td>\n",
       "      <td>26.96</td>\n",
       "      <td>64.29</td>\n",
       "      <td>280.0</td>\n",
       "      <td>12.65858</td>\n",
       "      <td>NaN</td>\n",
       "      <td>0.0</td>\n",
       "      <td>1008.8</td>\n",
       "      <td>10.0</td>\n",
       "      <td>2013-02-12T09:00:00Z</td>\n",
       "    </tr>\n",
       "    <tr>\n",
       "      <th>1011</th>\n",
       "      <td>EWR</td>\n",
       "      <td>2013</td>\n",
       "      <td>2</td>\n",
       "      <td>12</td>\n",
       "      <td>5</td>\n",
       "      <td>39.92</td>\n",
       "      <td>26.96</td>\n",
       "      <td>60.29</td>\n",
       "      <td>270.0</td>\n",
       "      <td>13.80936</td>\n",
       "      <td>NaN</td>\n",
       "      <td>0.0</td>\n",
       "      <td>NaN</td>\n",
       "      <td>10.0</td>\n",
       "      <td>2013-02-12T10:00:00Z</td>\n",
       "    </tr>\n",
       "    <tr>\n",
       "      <th>1012</th>\n",
       "      <td>EWR</td>\n",
       "      <td>2013</td>\n",
       "      <td>2</td>\n",
       "      <td>12</td>\n",
       "      <td>6</td>\n",
       "      <td>39.02</td>\n",
       "      <td>26.96</td>\n",
       "      <td>61.63</td>\n",
       "      <td>270.0</td>\n",
       "      <td>16.11092</td>\n",
       "      <td>NaN</td>\n",
       "      <td>0.0</td>\n",
       "      <td>1009.8</td>\n",
       "      <td>10.0</td>\n",
       "      <td>2013-02-12T11:00:00Z</td>\n",
       "    </tr>\n",
       "    <tr>\n",
       "      <th>1013</th>\n",
       "      <td>EWR</td>\n",
       "      <td>2013</td>\n",
       "      <td>2</td>\n",
       "      <td>12</td>\n",
       "      <td>7</td>\n",
       "      <td>39.92</td>\n",
       "      <td>24.98</td>\n",
       "      <td>54.81</td>\n",
       "      <td>260.0</td>\n",
       "      <td>14.96014</td>\n",
       "      <td>20.71404</td>\n",
       "      <td>0.0</td>\n",
       "      <td>1010.7</td>\n",
       "      <td>10.0</td>\n",
       "      <td>2013-02-12T12:00:00Z</td>\n",
       "    </tr>\n",
       "    <tr>\n",
       "      <th>1014</th>\n",
       "      <td>EWR</td>\n",
       "      <td>2013</td>\n",
       "      <td>2</td>\n",
       "      <td>12</td>\n",
       "      <td>8</td>\n",
       "      <td>42.08</td>\n",
       "      <td>26.60</td>\n",
       "      <td>60.29</td>\n",
       "      <td>250.0</td>\n",
       "      <td>17.26170</td>\n",
       "      <td>NaN</td>\n",
       "      <td>0.0</td>\n",
       "      <td>NaN</td>\n",
       "      <td>10.0</td>\n",
       "      <td>2013-02-12T13:00:00Z</td>\n",
       "    </tr>\n",
       "    <tr>\n",
       "      <th>1015</th>\n",
       "      <td>EWR</td>\n",
       "      <td>2013</td>\n",
       "      <td>2</td>\n",
       "      <td>12</td>\n",
       "      <td>9</td>\n",
       "      <td>41.90</td>\n",
       "      <td>24.98</td>\n",
       "      <td>50.77</td>\n",
       "      <td>290.0</td>\n",
       "      <td>12.65858</td>\n",
       "      <td>NaN</td>\n",
       "      <td>0.0</td>\n",
       "      <td>1011.5</td>\n",
       "      <td>10.0</td>\n",
       "      <td>2013-02-12T14:00:00Z</td>\n",
       "    </tr>\n",
       "    <tr>\n",
       "      <th>1016</th>\n",
       "      <td>EWR</td>\n",
       "      <td>2013</td>\n",
       "      <td>2</td>\n",
       "      <td>12</td>\n",
       "      <td>10</td>\n",
       "      <td>42.08</td>\n",
       "      <td>26.06</td>\n",
       "      <td>52.73</td>\n",
       "      <td>260.0</td>\n",
       "      <td>17.26170</td>\n",
       "      <td>23.01560</td>\n",
       "      <td>0.0</td>\n",
       "      <td>1012.0</td>\n",
       "      <td>10.0</td>\n",
       "      <td>2013-02-12T15:00:00Z</td>\n",
       "    </tr>\n",
       "    <tr>\n",
       "      <th>1017</th>\n",
       "      <td>EWR</td>\n",
       "      <td>2013</td>\n",
       "      <td>2</td>\n",
       "      <td>12</td>\n",
       "      <td>11</td>\n",
       "      <td>42.98</td>\n",
       "      <td>24.98</td>\n",
       "      <td>48.70</td>\n",
       "      <td>260.0</td>\n",
       "      <td>17.26170</td>\n",
       "      <td>NaN</td>\n",
       "      <td>0.0</td>\n",
       "      <td>1012.3</td>\n",
       "      <td>10.0</td>\n",
       "      <td>2013-02-12T16:00:00Z</td>\n",
       "    </tr>\n",
       "    <tr>\n",
       "      <th>1018</th>\n",
       "      <td>EWR</td>\n",
       "      <td>2013</td>\n",
       "      <td>2</td>\n",
       "      <td>12</td>\n",
       "      <td>12</td>\n",
       "      <td>44.06</td>\n",
       "      <td>26.06</td>\n",
       "      <td>48.87</td>\n",
       "      <td>270.0</td>\n",
       "      <td>21.86482</td>\n",
       "      <td>31.07106</td>\n",
       "      <td>0.0</td>\n",
       "      <td>1012.5</td>\n",
       "      <td>10.0</td>\n",
       "      <td>2013-02-12T17:00:00Z</td>\n",
       "    </tr>\n",
       "    <tr>\n",
       "      <th>1019</th>\n",
       "      <td>EWR</td>\n",
       "      <td>2013</td>\n",
       "      <td>2</td>\n",
       "      <td>12</td>\n",
       "      <td>13</td>\n",
       "      <td>46.04</td>\n",
       "      <td>26.06</td>\n",
       "      <td>45.33</td>\n",
       "      <td>280.0</td>\n",
       "      <td>13.80936</td>\n",
       "      <td>31.07106</td>\n",
       "      <td>0.0</td>\n",
       "      <td>1012.3</td>\n",
       "      <td>10.0</td>\n",
       "      <td>2013-02-12T18:00:00Z</td>\n",
       "    </tr>\n",
       "    <tr>\n",
       "      <th>1020</th>\n",
       "      <td>EWR</td>\n",
       "      <td>2013</td>\n",
       "      <td>2</td>\n",
       "      <td>12</td>\n",
       "      <td>14</td>\n",
       "      <td>44.96</td>\n",
       "      <td>26.06</td>\n",
       "      <td>47.23</td>\n",
       "      <td>280.0</td>\n",
       "      <td>17.26170</td>\n",
       "      <td>24.16638</td>\n",
       "      <td>0.0</td>\n",
       "      <td>1011.9</td>\n",
       "      <td>10.0</td>\n",
       "      <td>2013-02-12T19:00:00Z</td>\n",
       "    </tr>\n",
       "    <tr>\n",
       "      <th>1021</th>\n",
       "      <td>EWR</td>\n",
       "      <td>2013</td>\n",
       "      <td>2</td>\n",
       "      <td>12</td>\n",
       "      <td>15</td>\n",
       "      <td>42.98</td>\n",
       "      <td>24.98</td>\n",
       "      <td>48.70</td>\n",
       "      <td>300.0</td>\n",
       "      <td>12.65858</td>\n",
       "      <td>19.56326</td>\n",
       "      <td>0.0</td>\n",
       "      <td>1011.8</td>\n",
       "      <td>10.0</td>\n",
       "      <td>2013-02-12T20:00:00Z</td>\n",
       "    </tr>\n",
       "    <tr>\n",
       "      <th>1022</th>\n",
       "      <td>EWR</td>\n",
       "      <td>2013</td>\n",
       "      <td>2</td>\n",
       "      <td>12</td>\n",
       "      <td>16</td>\n",
       "      <td>42.98</td>\n",
       "      <td>24.08</td>\n",
       "      <td>46.91</td>\n",
       "      <td>270.0</td>\n",
       "      <td>13.80936</td>\n",
       "      <td>NaN</td>\n",
       "      <td>0.0</td>\n",
       "      <td>1011.3</td>\n",
       "      <td>10.0</td>\n",
       "      <td>2013-02-12T21:00:00Z</td>\n",
       "    </tr>\n",
       "    <tr>\n",
       "      <th>1023</th>\n",
       "      <td>EWR</td>\n",
       "      <td>2013</td>\n",
       "      <td>2</td>\n",
       "      <td>12</td>\n",
       "      <td>17</td>\n",
       "      <td>41.00</td>\n",
       "      <td>24.08</td>\n",
       "      <td>50.63</td>\n",
       "      <td>260.0</td>\n",
       "      <td>16.11092</td>\n",
       "      <td>26.46794</td>\n",
       "      <td>0.0</td>\n",
       "      <td>1013.8</td>\n",
       "      <td>10.0</td>\n",
       "      <td>2013-02-12T22:00:00Z</td>\n",
       "    </tr>\n",
       "    <tr>\n",
       "      <th>1024</th>\n",
       "      <td>EWR</td>\n",
       "      <td>2013</td>\n",
       "      <td>2</td>\n",
       "      <td>12</td>\n",
       "      <td>18</td>\n",
       "      <td>39.92</td>\n",
       "      <td>24.08</td>\n",
       "      <td>52.79</td>\n",
       "      <td>270.0</td>\n",
       "      <td>11.50780</td>\n",
       "      <td>NaN</td>\n",
       "      <td>0.0</td>\n",
       "      <td>1014.6</td>\n",
       "      <td>10.0</td>\n",
       "      <td>2013-02-12T23:00:00Z</td>\n",
       "    </tr>\n",
       "    <tr>\n",
       "      <th>1025</th>\n",
       "      <td>EWR</td>\n",
       "      <td>2013</td>\n",
       "      <td>2</td>\n",
       "      <td>12</td>\n",
       "      <td>19</td>\n",
       "      <td>39.92</td>\n",
       "      <td>24.08</td>\n",
       "      <td>52.79</td>\n",
       "      <td>270.0</td>\n",
       "      <td>12.65858</td>\n",
       "      <td>NaN</td>\n",
       "      <td>0.0</td>\n",
       "      <td>1015.0</td>\n",
       "      <td>10.0</td>\n",
       "      <td>2013-02-13T00:00:00Z</td>\n",
       "    </tr>\n",
       "    <tr>\n",
       "      <th>1026</th>\n",
       "      <td>EWR</td>\n",
       "      <td>2013</td>\n",
       "      <td>2</td>\n",
       "      <td>12</td>\n",
       "      <td>20</td>\n",
       "      <td>37.94</td>\n",
       "      <td>24.08</td>\n",
       "      <td>57.04</td>\n",
       "      <td>280.0</td>\n",
       "      <td>9.20624</td>\n",
       "      <td>NaN</td>\n",
       "      <td>0.0</td>\n",
       "      <td>1013.9</td>\n",
       "      <td>10.0</td>\n",
       "      <td>2013-02-13T01:00:00Z</td>\n",
       "    </tr>\n",
       "    <tr>\n",
       "      <th>1027</th>\n",
       "      <td>EWR</td>\n",
       "      <td>2013</td>\n",
       "      <td>2</td>\n",
       "      <td>12</td>\n",
       "      <td>21</td>\n",
       "      <td>35.96</td>\n",
       "      <td>24.08</td>\n",
       "      <td>61.67</td>\n",
       "      <td>300.0</td>\n",
       "      <td>5.75390</td>\n",
       "      <td>NaN</td>\n",
       "      <td>0.0</td>\n",
       "      <td>1013.0</td>\n",
       "      <td>10.0</td>\n",
       "      <td>2013-02-13T02:00:00Z</td>\n",
       "    </tr>\n",
       "    <tr>\n",
       "      <th>1028</th>\n",
       "      <td>EWR</td>\n",
       "      <td>2013</td>\n",
       "      <td>2</td>\n",
       "      <td>12</td>\n",
       "      <td>22</td>\n",
       "      <td>35.96</td>\n",
       "      <td>23.00</td>\n",
       "      <td>58.94</td>\n",
       "      <td>260.0</td>\n",
       "      <td>6.90468</td>\n",
       "      <td>NaN</td>\n",
       "      <td>0.0</td>\n",
       "      <td>1013.4</td>\n",
       "      <td>10.0</td>\n",
       "      <td>2013-02-13T03:00:00Z</td>\n",
       "    </tr>\n",
       "    <tr>\n",
       "      <th>1029</th>\n",
       "      <td>EWR</td>\n",
       "      <td>2013</td>\n",
       "      <td>2</td>\n",
       "      <td>12</td>\n",
       "      <td>23</td>\n",
       "      <td>35.96</td>\n",
       "      <td>23.00</td>\n",
       "      <td>58.94</td>\n",
       "      <td>250.0</td>\n",
       "      <td>4.60312</td>\n",
       "      <td>NaN</td>\n",
       "      <td>0.0</td>\n",
       "      <td>1013.7</td>\n",
       "      <td>10.0</td>\n",
       "      <td>2013-02-13T04:00:00Z</td>\n",
       "    </tr>\n",
       "  </tbody>\n",
       "</table>\n",
       "</div>"
      ],
      "text/plain": [
       "     origin  year  month  day  hour   temp   dewp  humid  wind_dir  \\\n",
       "1006    EWR  2013      2   12     0  39.92  39.02  96.55     240.0   \n",
       "1007    EWR  2013      2   12     1  39.92  37.94  92.56     250.0   \n",
       "1008    EWR  2013      2   12     2  39.92  28.04  62.21     270.0   \n",
       "1009    EWR  2013      2   12     3  39.02  26.96  61.63     260.0   \n",
       "1010    EWR  2013      2   12     4  39.02  26.96  64.29     280.0   \n",
       "1011    EWR  2013      2   12     5  39.92  26.96  60.29     270.0   \n",
       "1012    EWR  2013      2   12     6  39.02  26.96  61.63     270.0   \n",
       "1013    EWR  2013      2   12     7  39.92  24.98  54.81     260.0   \n",
       "1014    EWR  2013      2   12     8  42.08  26.60  60.29     250.0   \n",
       "1015    EWR  2013      2   12     9  41.90  24.98  50.77     290.0   \n",
       "1016    EWR  2013      2   12    10  42.08  26.06  52.73     260.0   \n",
       "1017    EWR  2013      2   12    11  42.98  24.98  48.70     260.0   \n",
       "1018    EWR  2013      2   12    12  44.06  26.06  48.87     270.0   \n",
       "1019    EWR  2013      2   12    13  46.04  26.06  45.33     280.0   \n",
       "1020    EWR  2013      2   12    14  44.96  26.06  47.23     280.0   \n",
       "1021    EWR  2013      2   12    15  42.98  24.98  48.70     300.0   \n",
       "1022    EWR  2013      2   12    16  42.98  24.08  46.91     270.0   \n",
       "1023    EWR  2013      2   12    17  41.00  24.08  50.63     260.0   \n",
       "1024    EWR  2013      2   12    18  39.92  24.08  52.79     270.0   \n",
       "1025    EWR  2013      2   12    19  39.92  24.08  52.79     270.0   \n",
       "1026    EWR  2013      2   12    20  37.94  24.08  57.04     280.0   \n",
       "1027    EWR  2013      2   12    21  35.96  24.08  61.67     300.0   \n",
       "1028    EWR  2013      2   12    22  35.96  23.00  58.94     260.0   \n",
       "1029    EWR  2013      2   12    23  35.96  23.00  58.94     250.0   \n",
       "\n",
       "      wind_speed  wind_gust  precip  pressure  visib             time_hour  \n",
       "1006     6.90468        NaN     0.0    1006.9   10.0  2013-02-12T05:00:00Z  \n",
       "1007     9.20624        NaN     0.0    1007.2   10.0  2013-02-12T06:00:00Z  \n",
       "1008    20.71404   25.31716     0.0    1007.8   10.0  2013-02-12T07:00:00Z  \n",
       "1009  1048.36058        NaN     0.0    1008.3   10.0  2013-02-12T08:00:00Z  \n",
       "1010    12.65858        NaN     0.0    1008.8   10.0  2013-02-12T09:00:00Z  \n",
       "1011    13.80936        NaN     0.0       NaN   10.0  2013-02-12T10:00:00Z  \n",
       "1012    16.11092        NaN     0.0    1009.8   10.0  2013-02-12T11:00:00Z  \n",
       "1013    14.96014   20.71404     0.0    1010.7   10.0  2013-02-12T12:00:00Z  \n",
       "1014    17.26170        NaN     0.0       NaN   10.0  2013-02-12T13:00:00Z  \n",
       "1015    12.65858        NaN     0.0    1011.5   10.0  2013-02-12T14:00:00Z  \n",
       "1016    17.26170   23.01560     0.0    1012.0   10.0  2013-02-12T15:00:00Z  \n",
       "1017    17.26170        NaN     0.0    1012.3   10.0  2013-02-12T16:00:00Z  \n",
       "1018    21.86482   31.07106     0.0    1012.5   10.0  2013-02-12T17:00:00Z  \n",
       "1019    13.80936   31.07106     0.0    1012.3   10.0  2013-02-12T18:00:00Z  \n",
       "1020    17.26170   24.16638     0.0    1011.9   10.0  2013-02-12T19:00:00Z  \n",
       "1021    12.65858   19.56326     0.0    1011.8   10.0  2013-02-12T20:00:00Z  \n",
       "1022    13.80936        NaN     0.0    1011.3   10.0  2013-02-12T21:00:00Z  \n",
       "1023    16.11092   26.46794     0.0    1013.8   10.0  2013-02-12T22:00:00Z  \n",
       "1024    11.50780        NaN     0.0    1014.6   10.0  2013-02-12T23:00:00Z  \n",
       "1025    12.65858        NaN     0.0    1015.0   10.0  2013-02-13T00:00:00Z  \n",
       "1026     9.20624        NaN     0.0    1013.9   10.0  2013-02-13T01:00:00Z  \n",
       "1027     5.75390        NaN     0.0    1013.0   10.0  2013-02-13T02:00:00Z  \n",
       "1028     6.90468        NaN     0.0    1013.4   10.0  2013-02-13T03:00:00Z  \n",
       "1029     4.60312        NaN     0.0    1013.7   10.0  2013-02-13T04:00:00Z  "
      ]
     },
     "execution_count": 25,
     "metadata": {},
     "output_type": "execute_result"
    }
   ],
   "source": [
    "# filtering by date and airport returns the wind_speed per hour\n",
    "ewr_on_feb122013 = weather_df[(weather_df.month == 2) & (weather_df.day == 12) & (weather_df.year == 2013) & (weather_df.origin == 'EWR')].sort_values('hour')\n",
    "ewr_on_feb122013"
   ]
  },
  {
   "cell_type": "code",
   "execution_count": 26,
   "metadata": {
    "colab": {
     "base_uri": "https://localhost:8080/"
    },
    "executionInfo": {
     "elapsed": 584,
     "status": "ok",
     "timestamp": 1615039299755,
     "user": {
      "displayName": "Sarah May",
      "photoUrl": "https://lh4.googleusercontent.com/-CO2Ps2DCMD8/AAAAAAAAAAI/AAAAAAAAv8w/wDaS83oSD7s/s64/photo.jpg",
      "userId": "13591673223454869279"
     },
     "user_tz": 300
    },
    "id": "uHnZ6cB71uLi",
    "outputId": "8d145681-f551-4d10-a819-42362eb1ea7a"
   },
   "outputs": [
    {
     "data": {
      "text/plain": [
       "56.38822"
      ]
     },
     "execution_count": 26,
     "metadata": {},
     "output_type": "execute_result"
    }
   ],
   "source": [
    "# the mean wind_speed can be calculated on the filtered df, however it is inefficient to perform this task on every airport in this df\n",
    "ewr_on_feb122013.wind_speed.mean()"
   ]
  },
  {
   "cell_type": "code",
   "execution_count": 27,
   "metadata": {
    "executionInfo": {
     "elapsed": 639,
     "status": "ok",
     "timestamp": 1615039469641,
     "user": {
      "displayName": "Sarah May",
      "photoUrl": "https://lh4.googleusercontent.com/-CO2Ps2DCMD8/AAAAAAAAAAI/AAAAAAAAv8w/wDaS83oSD7s/s64/photo.jpg",
      "userId": "13591673223454869279"
     },
     "user_tz": 300
    },
    "id": "nA-jYYrk2i5X"
   },
   "outputs": [],
   "source": [
    "# filter by date, include all airports\n",
    "on_feb122013 = weather_df[(weather_df.month == 2) & (weather_df.day == 12) & (weather_df.year == 2013)]"
   ]
  },
  {
   "cell_type": "code",
   "execution_count": 28,
   "metadata": {
    "colab": {
     "base_uri": "https://localhost:8080/"
    },
    "executionInfo": {
     "elapsed": 649,
     "status": "ok",
     "timestamp": 1615039599747,
     "user": {
      "displayName": "Sarah May",
      "photoUrl": "https://lh4.googleusercontent.com/-CO2Ps2DCMD8/AAAAAAAAAAI/AAAAAAAAv8w/wDaS83oSD7s/s64/photo.jpg",
      "userId": "13591673223454869279"
     },
     "user_tz": 300
    },
    "id": "TBc1k7G-2akA",
    "outputId": "56d1e945-92f2-46ea-89f5-4e840185a26d"
   },
   "outputs": [
    {
     "data": {
      "text/plain": [
       "origin\n",
       "EWR    56.38822\n",
       "JFK    14.38475\n",
       "LGA    14.96014\n",
       "Name: wind_speed, dtype: float64"
      ]
     },
     "execution_count": 28,
     "metadata": {},
     "output_type": "execute_result"
    }
   ],
   "source": [
    "# calculate the mean wind_speed on of all hours in the day for each airport\n",
    "average_wind_speed_on_feb122013 = on_feb122013.groupby('origin').wind_speed.mean()\n",
    "average_wind_speed_on_feb122013"
   ]
  },
  {
   "cell_type": "code",
   "execution_count": 29,
   "metadata": {
    "colab": {
     "base_uri": "https://localhost:8080/"
    },
    "executionInfo": {
     "elapsed": 618,
     "status": "ok",
     "timestamp": 1615039960149,
     "user": {
      "displayName": "Sarah May",
      "photoUrl": "https://lh4.googleusercontent.com/-CO2Ps2DCMD8/AAAAAAAAAAI/AAAAAAAAv8w/wDaS83oSD7s/s64/photo.jpg",
      "userId": "13591673223454869279"
     },
     "user_tz": 300
    },
    "id": "oOBCGLaC4edg",
    "outputId": "e12d7b72-99e0-4db3-bcc5-4455b8e4cd2a"
   },
   "outputs": [
    {
     "data": {
      "text/plain": [
       "56.38822000000001"
      ]
     },
     "execution_count": 29,
     "metadata": {},
     "output_type": "execute_result"
    }
   ],
   "source": [
    "# identify the max average wind_speed on the specified day\n",
    "average_wind_speed_on_feb122013.max()"
   ]
  },
  {
   "cell_type": "code",
   "execution_count": 30,
   "metadata": {
    "colab": {
     "base_uri": "https://localhost:8080/"
    },
    "executionInfo": {
     "elapsed": 617,
     "status": "ok",
     "timestamp": 1615040013321,
     "user": {
      "displayName": "Sarah May",
      "photoUrl": "https://lh4.googleusercontent.com/-CO2Ps2DCMD8/AAAAAAAAAAI/AAAAAAAAv8w/wDaS83oSD7s/s64/photo.jpg",
      "userId": "13591673223454869279"
     },
     "user_tz": 300
    },
    "id": "155akk7n3yaT",
    "outputId": "5c4364df-a591-40b2-a027-1b003d1929ed"
   },
   "outputs": [
    {
     "data": {
      "text/plain": [
       "origin\n",
       "EWR    56.38822\n",
       "Name: wind_speed, dtype: float64"
      ]
     },
     "execution_count": 30,
     "metadata": {},
     "output_type": "execute_result"
    }
   ],
   "source": [
    "# identify the airport name\n",
    "windiest_airport = average_wind_speed_on_feb122013[average_wind_speed_on_feb122013 == average_wind_speed_on_feb122013.max()]\n",
    "windiest_airport"
   ]
  },
  {
   "cell_type": "code",
   "execution_count": 31,
   "metadata": {
    "colab": {
     "base_uri": "https://localhost:8080/",
     "height": 35
    },
    "executionInfo": {
     "elapsed": 658,
     "status": "ok",
     "timestamp": 1615041046491,
     "user": {
      "displayName": "Sarah May",
      "photoUrl": "https://lh4.googleusercontent.com/-CO2Ps2DCMD8/AAAAAAAAAAI/AAAAAAAAv8w/wDaS83oSD7s/s64/photo.jpg",
      "userId": "13591673223454869279"
     },
     "user_tz": 300
    },
    "id": "AKG9UQeP3GIb",
    "outputId": "64a00794-6352-441e-8534-59a842607404"
   },
   "outputs": [
    {
     "data": {
      "text/plain": [
       "'EWR'"
      ]
     },
     "execution_count": 31,
     "metadata": {},
     "output_type": "execute_result"
    }
   ],
   "source": [
    "windiest_airport_name = windiest_airport.index[0]\n",
    "windiest_airport_name"
   ]
  },
  {
   "cell_type": "markdown",
   "metadata": {
    "id": "XtfStAmR7uSI"
   },
   "source": [
    "## Question 3 Answer"
   ]
  },
  {
   "cell_type": "code",
   "execution_count": 32,
   "metadata": {
    "colab": {
     "base_uri": "https://localhost:8080/"
    },
    "executionInfo": {
     "elapsed": 663,
     "status": "ok",
     "timestamp": 1615040789553,
     "user": {
      "displayName": "Sarah May",
      "photoUrl": "https://lh4.googleusercontent.com/-CO2Ps2DCMD8/AAAAAAAAAAI/AAAAAAAAv8w/wDaS83oSD7s/s64/photo.jpg",
      "userId": "13591673223454869279"
     },
     "user_tz": 300
    },
    "id": "WHYSPrUdzxpb",
    "outputId": "c079bc6a-8ade-44f7-a19d-eb29d997c2e7"
   },
   "outputs": [
    {
     "name": "stdout",
     "output_type": "stream",
     "text": [
      "The windiest New York area airport on February 12, 2013 was EWR.\n"
     ]
    }
   ],
   "source": [
    "print('The windiest New York area airport on February 12, 2013 was {}.'.format(windiest_airport_name))"
   ]
  }
 ],
 "metadata": {
  "colab": {
   "authorship_tag": "ABX9TyPzQothwTjGkPlqRFO6TSBL",
   "collapsed_sections": [
    "1oCYtG1wiNKs",
    "3zGR23jTBIpj"
   ],
   "name": "IS362_Assignment5.ipynb",
   "provenance": [],
   "toc_visible": true
  },
  "kernelspec": {
   "display_name": "Python 3",
   "language": "python",
   "name": "python3"
  },
  "language_info": {
   "codemirror_mode": {
    "name": "ipython",
    "version": 3
   },
   "file_extension": ".py",
   "mimetype": "text/x-python",
   "name": "python",
   "nbconvert_exporter": "python",
   "pygments_lexer": "ipython3",
   "version": "3.8.6"
  }
 },
 "nbformat": 4,
 "nbformat_minor": 1
}
